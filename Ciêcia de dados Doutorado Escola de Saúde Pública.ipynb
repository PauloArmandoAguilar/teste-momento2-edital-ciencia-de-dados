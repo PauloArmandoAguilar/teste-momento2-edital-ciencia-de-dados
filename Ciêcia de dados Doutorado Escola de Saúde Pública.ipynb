{
 "cells": [
  {
   "cell_type": "markdown",
   "id": "d57a2db0",
   "metadata": {},
   "source": [
    "# 0. Descriçao das Bibliotecas, Métodos e Estruturas"
   ]
  },
  {
   "cell_type": "code",
   "execution_count": 5,
   "id": "d97cf1cb",
   "metadata": {},
   "outputs": [],
   "source": [
    "import pandas as pd\n",
    "import seaborn as sns\n",
    "import matplotlib.pyplot as plt\n",
    "\n",
    "from sklearn.linear_model import LogisticRegression\n",
    "from sklearn.ensemble import RandomForestClassifier\n",
    "from sklearn.neural_network import MLPClassifier\n",
    "from sklearn.svm import SVC\n",
    "\n",
    "from sklearn.model_selection import train_test_split\n",
    "from sklearn.metrics import confusion_matrix\n",
    "from sklearn.metrics import classification_report"
   ]
  },
  {
   "cell_type": "markdown",
   "id": "2e3714d3",
   "metadata": {},
   "source": [
    "Para o desenvolvimento deste projeto foi utilizada a linguagem Python na sua versão 3.10.0, por meio da ferramenta Jupyter Notebook na sua versão 6.4.5, instalado através do Anaconda Navigator.\n",
    "<br>\n",
    "<ul>\n",
    "Foram utilizadas as bibliotecas:\n",
    "    <li>Pandas, para a leitura, armazenamento e manejo dos dados</li>\n",
    "    <li>Seaborn e matplotlib para o plot de gráficos durante a análise exploratória de dados</li>\n",
    "    <li>sklearn para a utilizadação de modelos de machine learning</li>\n",
    "</ul>\n",
    "\n",
    "<br>\n",
    "\n",
    "<ol>\n",
    "Além do mais, foram utilizados os métodos para a execução das etapas de:\n",
    "    <li> Importação e Tratamento dos Dados:</li>\n",
    "    <li> Visualização e Análise Exploratória dos Dados</li>\n",
    "    <li> Análise Preditiva e Prescritiva dos Dados</li>\n",
    "</ol> \n",
    "<br>\n",
    "Por fim utilizamos estruturas de dados que já estão embutidas na própia linguagem e nas bibliotecas importadas."
   ]
  },
  {
   "cell_type": "code",
   "execution_count": null,
   "id": "9c82bad3",
   "metadata": {},
   "outputs": [],
   "source": []
  },
  {
   "cell_type": "markdown",
   "id": "de917b35",
   "metadata": {},
   "source": [
    "# 1. Importação e Tratamento dos Dados"
   ]
  },
  {
   "cell_type": "markdown",
   "id": "ea0fd9d0",
   "metadata": {},
   "source": [
    "#### Importação do dicionário"
   ]
  },
  {
   "cell_type": "code",
   "execution_count": 6,
   "id": "85cc6ed3",
   "metadata": {},
   "outputs": [],
   "source": [
    "dici = pd.read_csv(\"dicionario.csv\", delimiter=';')"
   ]
  },
  {
   "cell_type": "markdown",
   "id": "e187d8e4",
   "metadata": {},
   "source": [
    "Adequação do dicionário para o ambiente Python. Essa formalização pode ser util para utilizações futuras."
   ]
  },
  {
   "cell_type": "code",
   "execution_count": 7,
   "id": "105df4e5",
   "metadata": {},
   "outputs": [
    {
     "data": {
      "text/plain": [
       "array(['Inteiro', 'Booleano', 'Texto', 'Double'], dtype=object)"
      ]
     },
     "execution_count": 7,
     "metadata": {},
     "output_type": "execute_result"
    }
   ],
   "source": [
    "dici.Tipo.unique()"
   ]
  },
  {
   "cell_type": "code",
   "execution_count": 8,
   "id": "3f22922b",
   "metadata": {},
   "outputs": [],
   "source": [
    "dici.Tipo.replace('Inteiro', 'int', inplace=True)\n",
    "dici.Tipo.replace('Booleano', 'boolean', inplace=True)\n",
    "dici.Tipo.replace('Texto', 'str', inplace=True)\n",
    "dici.Tipo.replace('Double', 'float', inplace=True)"
   ]
  },
  {
   "cell_type": "code",
   "execution_count": 9,
   "id": "fd829941",
   "metadata": {},
   "outputs": [
    {
     "data": {
      "text/plain": [
       "array(['int', 'boolean', 'str', 'float'], dtype=object)"
      ]
     },
     "execution_count": 9,
     "metadata": {},
     "output_type": "execute_result"
    }
   ],
   "source": [
    "dici.Tipo.unique()"
   ]
  },
  {
   "cell_type": "markdown",
   "id": "320ac0da",
   "metadata": {},
   "source": [
    "Criação de um dicionário (dict) o nome da coluna ao seu tipo( {Coluna : Tipo} )\n"
   ]
  },
  {
   "cell_type": "code",
   "execution_count": 10,
   "id": "e3b4e3ff",
   "metadata": {},
   "outputs": [],
   "source": [
    "tipos = dict(zip(list(dici.Coluna), list(dici.Tipo)))"
   ]
  },
  {
   "cell_type": "code",
   "execution_count": null,
   "id": "6569a51c",
   "metadata": {},
   "outputs": [],
   "source": []
  },
  {
   "cell_type": "markdown",
   "id": "dd883a9e",
   "metadata": {},
   "source": [
    "#### Importação dos dados"
   ]
  },
  {
   "cell_type": "markdown",
   "id": "0c4d06e4",
   "metadata": {},
   "source": [
    "Foi necessário declarar o tipo de encoding do dataset para a leitura."
   ]
  },
  {
   "cell_type": "code",
   "execution_count": 11,
   "id": "304b9397",
   "metadata": {},
   "outputs": [],
   "source": [
    "data = pd.read_csv(\"dataset_teste_selecao.csv\", encoding = 'unicode_escape')"
   ]
  },
  {
   "cell_type": "code",
   "execution_count": null,
   "id": "0939d31b",
   "metadata": {},
   "outputs": [],
   "source": []
  },
  {
   "cell_type": "markdown",
   "id": "25837b07",
   "metadata": {},
   "source": [
    "É possível notar abaixo que boa parte das colunas não estão com seu tipo descrito no dicionário (booleano), mais a frente, com auxilio de um .head() é possivel ver a razão, as colunas booleanas estão assinaladas com \"Sim\" e \"Não\" (interpretadas como tipo object) ."
   ]
  },
  {
   "cell_type": "code",
   "execution_count": 22,
   "id": "2774d024",
   "metadata": {
    "scrolled": true
   },
   "outputs": [
    {
     "name": "stdout",
     "output_type": "stream",
     "text": [
      "<class 'pandas.core.frame.DataFrame'>\n",
      "RangeIndex: 576 entries, 0 to 575\n",
      "Data columns (total 65 columns):\n",
      " #   Column                                    Non-Null Count  Dtype  \n",
      "---  ------                                    --------------  -----  \n",
      " 0   paciente_id                               576 non-null    object \n",
      " 1   coriza                                    576 non-null    object \n",
      " 2   tosse_seca_ou_produtiva                   576 non-null    object \n",
      " 3   calafrios                                 576 non-null    object \n",
      " 4   febre                                     576 non-null    object \n",
      " 5   dispneia                                  576 non-null    object \n",
      " 6   fadiga                                    576 non-null    object \n",
      " 7   anorexia                                  576 non-null    object \n",
      " 8   mialgia                                   576 non-null    object \n",
      " 9   astenia                                   576 non-null    object \n",
      " 10  dor_de_garganta                           576 non-null    object \n",
      " 11  congestao_nasal                           576 non-null    object \n",
      " 12  cefaleia                                  576 non-null    object \n",
      " 13  diarreia                                  576 non-null    object \n",
      " 14  nausea                                    576 non-null    object \n",
      " 15  vomitos                                   576 non-null    object \n",
      " 16  anosmia                                   576 non-null    object \n",
      " 17  ageusia                                   576 non-null    object \n",
      " 18  tabagismo                                 576 non-null    object \n",
      " 19  drogas                                    576 non-null    object \n",
      " 20  etilismo                                  576 non-null    object \n",
      " 21  diabetes                                  576 non-null    object \n",
      " 22  obesidade                                 576 non-null    object \n",
      " 23  hipertensao_arterial                      576 non-null    object \n",
      " 24  doenca_cardiaca                           576 non-null    object \n",
      " 25  doenca_pulmonar                           576 non-null    object \n",
      " 26  doenca_reumatologica                      576 non-null    object \n",
      " 27  doenca_autoimune                          576 non-null    object \n",
      " 28  doenca_renal_cronica                      576 non-null    object \n",
      " 29  doenca_hepatica_cronica                   576 non-null    object \n",
      " 30  doenca_neurologica                        576 non-null    object \n",
      " 31  paciente_chegou_com_suporte_respiratorio  576 non-null    object \n",
      " 32  vmi                                       576 non-null    object \n",
      " 33  uti                                       576 non-null    object \n",
      " 34  necessidade_transfusional                 576 non-null    object \n",
      " 35  fenomenos_tromboembolicos_tvp             576 non-null    object \n",
      " 36  fenomenos_tromboembolicos_tep             576 non-null    object \n",
      " 37  sepse                                     576 non-null    object \n",
      " 38  disfuncao_hepatica                        576 non-null    object \n",
      " 39  choque_septico                            576 non-null    object \n",
      " 40  disfuncao_multipla_de_orgaos              576 non-null    object \n",
      " 41  choque_hipovolemico                       576 non-null    object \n",
      " 42  complicacao_neurologica                   576 non-null    object \n",
      " 43  hemorragia                                576 non-null    object \n",
      " 44  hemodialise                               576 non-null    object \n",
      " 45  tempo_vmi_total                           229 non-null    float64\n",
      " 46  tempo_uti_total                           385 non-null    float64\n",
      " 47  tempo_internacao                          573 non-null    float64\n",
      " 48  tempo_referencia_internacao               535 non-null    float64\n",
      " 49  nomemacro                                 575 non-null    object \n",
      " 50  bairro                                    371 non-null    object \n",
      " 51  latitude                                  371 non-null    float64\n",
      " 52  longitude                                 371 non-null    float64\n",
      " 53  idh_label                                 371 non-null    object \n",
      " 54  sexo                                      575 non-null    object \n",
      " 55  idade                                     575 non-null    float64\n",
      " 56  cor_autorreferida                         575 non-null    object \n",
      " 57  estado_civil                              575 non-null    object \n",
      " 58  escolaridade                              575 non-null    object \n",
      " 59  tipo_caso_à_admissão                      574 non-null    object \n",
      " 60  tempo_sintomas_internacao                 538 non-null    float64\n",
      " 61  desfecho                                  553 non-null    object \n",
      " 62  obito_menos24horas                        230 non-null    object \n",
      " 63  obito_vm                                  230 non-null    object \n",
      " 64  obito_uti                                 231 non-null    object \n",
      "dtypes: float64(8), object(57)\n",
      "memory usage: 292.6+ KB\n"
     ]
    }
   ],
   "source": [
    "data.info()"
   ]
  },
  {
   "cell_type": "code",
   "execution_count": null,
   "id": "1a278013",
   "metadata": {},
   "outputs": [],
   "source": []
  },
  {
   "cell_type": "code",
   "execution_count": 23,
   "id": "6a62f1d4",
   "metadata": {},
   "outputs": [
    {
     "data": {
      "text/html": [
       "<div>\n",
       "<style scoped>\n",
       "    .dataframe tbody tr th:only-of-type {\n",
       "        vertical-align: middle;\n",
       "    }\n",
       "\n",
       "    .dataframe tbody tr th {\n",
       "        vertical-align: top;\n",
       "    }\n",
       "\n",
       "    .dataframe thead th {\n",
       "        text-align: right;\n",
       "    }\n",
       "</style>\n",
       "<table border=\"1\" class=\"dataframe\">\n",
       "  <thead>\n",
       "    <tr style=\"text-align: right;\">\n",
       "      <th></th>\n",
       "      <th>paciente_id</th>\n",
       "      <th>coriza</th>\n",
       "      <th>tosse_seca_ou_produtiva</th>\n",
       "      <th>calafrios</th>\n",
       "      <th>febre</th>\n",
       "      <th>dispneia</th>\n",
       "      <th>fadiga</th>\n",
       "      <th>anorexia</th>\n",
       "      <th>mialgia</th>\n",
       "      <th>astenia</th>\n",
       "      <th>...</th>\n",
       "      <th>idade</th>\n",
       "      <th>cor_autorreferida</th>\n",
       "      <th>estado_civil</th>\n",
       "      <th>escolaridade</th>\n",
       "      <th>tipo_caso_à_admissão</th>\n",
       "      <th>tempo_sintomas_internacao</th>\n",
       "      <th>desfecho</th>\n",
       "      <th>obito_menos24horas</th>\n",
       "      <th>obito_vm</th>\n",
       "      <th>obito_uti</th>\n",
       "    </tr>\n",
       "  </thead>\n",
       "  <tbody>\n",
       "    <tr>\n",
       "      <th>0</th>\n",
       "      <td>e5841df2166dd424a57127423d276bbe</td>\n",
       "      <td>Não</td>\n",
       "      <td>Não</td>\n",
       "      <td>Não</td>\n",
       "      <td>Não</td>\n",
       "      <td>Não</td>\n",
       "      <td>Não</td>\n",
       "      <td>Não</td>\n",
       "      <td>Não</td>\n",
       "      <td>Não</td>\n",
       "      <td>...</td>\n",
       "      <td>76.0</td>\n",
       "      <td>Parda/mulata</td>\n",
       "      <td>Casado/ amasiado</td>\n",
       "      <td>Ensino fundamental incompleto(1ºG)</td>\n",
       "      <td>Caso suspeito</td>\n",
       "      <td>NaN</td>\n",
       "      <td>obito</td>\n",
       "      <td>Não</td>\n",
       "      <td>Sim</td>\n",
       "      <td>Sim</td>\n",
       "    </tr>\n",
       "    <tr>\n",
       "      <th>1</th>\n",
       "      <td>3c59dc048e8850243be8079a5c74d079</td>\n",
       "      <td>Não</td>\n",
       "      <td>Sim</td>\n",
       "      <td>Não</td>\n",
       "      <td>Sim</td>\n",
       "      <td>Sim</td>\n",
       "      <td>Não</td>\n",
       "      <td>Não</td>\n",
       "      <td>Sim</td>\n",
       "      <td>Não</td>\n",
       "      <td>...</td>\n",
       "      <td>33.0</td>\n",
       "      <td>Não informado</td>\n",
       "      <td>Não informado</td>\n",
       "      <td>Não informado</td>\n",
       "      <td>Caso suspeito</td>\n",
       "      <td>7.0</td>\n",
       "      <td>alta</td>\n",
       "      <td>NaN</td>\n",
       "      <td>NaN</td>\n",
       "      <td>NaN</td>\n",
       "    </tr>\n",
       "    <tr>\n",
       "      <th>2</th>\n",
       "      <td>99c5e07b4d5de9d18c350cdf64c5aa3d</td>\n",
       "      <td>Não</td>\n",
       "      <td>Não</td>\n",
       "      <td>Não</td>\n",
       "      <td>Sim</td>\n",
       "      <td>Sim</td>\n",
       "      <td>Não</td>\n",
       "      <td>Não</td>\n",
       "      <td>Não</td>\n",
       "      <td>Não</td>\n",
       "      <td>...</td>\n",
       "      <td>42.0</td>\n",
       "      <td>Amarela/Oriental</td>\n",
       "      <td>Casado/ amasiado</td>\n",
       "      <td>Ensino médio completo</td>\n",
       "      <td>Caso suspeito</td>\n",
       "      <td>10.0</td>\n",
       "      <td>alta</td>\n",
       "      <td>NaN</td>\n",
       "      <td>NaN</td>\n",
       "      <td>NaN</td>\n",
       "    </tr>\n",
       "    <tr>\n",
       "      <th>3</th>\n",
       "      <td>1587965fb4d4b5afe8428a4a024feb0d</td>\n",
       "      <td>Não</td>\n",
       "      <td>Não</td>\n",
       "      <td>Não</td>\n",
       "      <td>Não</td>\n",
       "      <td>Sim</td>\n",
       "      <td>Não</td>\n",
       "      <td>Não</td>\n",
       "      <td>Não</td>\n",
       "      <td>Não</td>\n",
       "      <td>...</td>\n",
       "      <td>64.0</td>\n",
       "      <td>Branca</td>\n",
       "      <td>Casado/ amasiado</td>\n",
       "      <td>Ensino fundamental incompleto(1ºG)</td>\n",
       "      <td>Caso suspeito</td>\n",
       "      <td>11.0</td>\n",
       "      <td>obito</td>\n",
       "      <td>Não</td>\n",
       "      <td>Sim</td>\n",
       "      <td>Sim</td>\n",
       "    </tr>\n",
       "    <tr>\n",
       "      <th>4</th>\n",
       "      <td>b4a528955b84f584974e92d025a75d1f</td>\n",
       "      <td>Não</td>\n",
       "      <td>Não</td>\n",
       "      <td>Não</td>\n",
       "      <td>Não</td>\n",
       "      <td>Sim</td>\n",
       "      <td>Não</td>\n",
       "      <td>Não</td>\n",
       "      <td>Não</td>\n",
       "      <td>Não</td>\n",
       "      <td>...</td>\n",
       "      <td>73.0</td>\n",
       "      <td>Parda/mulata</td>\n",
       "      <td>Casado/ amasiado</td>\n",
       "      <td>Ensino fundamental incompleto(1ºG)</td>\n",
       "      <td>Caso suspeito</td>\n",
       "      <td>7.0</td>\n",
       "      <td>obito</td>\n",
       "      <td>Não</td>\n",
       "      <td>Sim</td>\n",
       "      <td>Sim</td>\n",
       "    </tr>\n",
       "  </tbody>\n",
       "</table>\n",
       "<p>5 rows × 65 columns</p>\n",
       "</div>"
      ],
      "text/plain": [
       "                        paciente_id coriza tosse_seca_ou_produtiva calafrios  \\\n",
       "0  e5841df2166dd424a57127423d276bbe    Não                     Não       Não   \n",
       "1  3c59dc048e8850243be8079a5c74d079    Não                     Sim       Não   \n",
       "2  99c5e07b4d5de9d18c350cdf64c5aa3d    Não                     Não       Não   \n",
       "3  1587965fb4d4b5afe8428a4a024feb0d    Não                     Não       Não   \n",
       "4  b4a528955b84f584974e92d025a75d1f    Não                     Não       Não   \n",
       "\n",
       "  febre dispneia fadiga anorexia mialgia astenia  ... idade cor_autorreferida  \\\n",
       "0   Não      Não    Não      Não     Não     Não  ...  76.0      Parda/mulata   \n",
       "1   Sim      Sim    Não      Não     Sim     Não  ...  33.0     Não informado   \n",
       "2   Sim      Sim    Não      Não     Não     Não  ...  42.0  Amarela/Oriental   \n",
       "3   Não      Sim    Não      Não     Não     Não  ...  64.0            Branca   \n",
       "4   Não      Sim    Não      Não     Não     Não  ...  73.0      Parda/mulata   \n",
       "\n",
       "       estado_civil                        escolaridade tipo_caso_à_admissão  \\\n",
       "0  Casado/ amasiado  Ensino fundamental incompleto(1ºG)        Caso suspeito   \n",
       "1     Não informado                       Não informado        Caso suspeito   \n",
       "2  Casado/ amasiado               Ensino médio completo        Caso suspeito   \n",
       "3  Casado/ amasiado  Ensino fundamental incompleto(1ºG)        Caso suspeito   \n",
       "4  Casado/ amasiado  Ensino fundamental incompleto(1ºG)        Caso suspeito   \n",
       "\n",
       "  tempo_sintomas_internacao desfecho obito_menos24horas obito_vm obito_uti  \n",
       "0                       NaN    obito                Não      Sim       Sim  \n",
       "1                       7.0     alta                NaN      NaN       NaN  \n",
       "2                      10.0     alta                NaN      NaN       NaN  \n",
       "3                      11.0    obito                Não      Sim       Sim  \n",
       "4                       7.0    obito                Não      Sim       Sim  \n",
       "\n",
       "[5 rows x 65 columns]"
      ]
     },
     "execution_count": 23,
     "metadata": {},
     "output_type": "execute_result"
    }
   ],
   "source": [
    "data.head()"
   ]
  },
  {
   "cell_type": "code",
   "execution_count": null,
   "id": "cb3e785e",
   "metadata": {},
   "outputs": [],
   "source": []
  },
  {
   "cell_type": "markdown",
   "id": "26e68934",
   "metadata": {},
   "source": [
    "Visualização dos valores únicos em cada coluna para checar a integridade dos dados."
   ]
  },
  {
   "cell_type": "code",
   "execution_count": 12,
   "id": "a65a11f3",
   "metadata": {
    "scrolled": true
   },
   "outputs": [
    {
     "name": "stdout",
     "output_type": "stream",
     "text": [
      "coriza\n",
      "['Não' 'Sim']\n",
      "\n",
      "--------------------------------------------\n",
      "\n",
      "tosse_seca_ou_produtiva\n",
      "['Não' 'Sim']\n",
      "\n",
      "--------------------------------------------\n",
      "\n",
      "calafrios\n",
      "['Não' 'Sim']\n",
      "\n",
      "--------------------------------------------\n",
      "\n",
      "febre\n",
      "['Não' 'Sim']\n",
      "\n",
      "--------------------------------------------\n",
      "\n",
      "dispneia\n",
      "['Não' 'Sim']\n",
      "\n",
      "--------------------------------------------\n",
      "\n",
      "fadiga\n",
      "['Não' 'Sim']\n",
      "\n",
      "--------------------------------------------\n",
      "\n",
      "anorexia\n",
      "['Não' 'Sim']\n",
      "\n",
      "--------------------------------------------\n",
      "\n",
      "mialgia\n",
      "['Não' 'Sim']\n",
      "\n",
      "--------------------------------------------\n",
      "\n",
      "astenia\n",
      "['Não' 'Sim']\n",
      "\n",
      "--------------------------------------------\n",
      "\n",
      "dor_de_garganta\n",
      "['Não' 'Sim']\n",
      "\n",
      "--------------------------------------------\n",
      "\n",
      "congestao_nasal\n",
      "['Não' 'Sim']\n",
      "\n",
      "--------------------------------------------\n",
      "\n",
      "cefaleia\n",
      "['Não' 'Sim']\n",
      "\n",
      "--------------------------------------------\n",
      "\n",
      "diarreia\n",
      "['Não' 'Sim']\n",
      "\n",
      "--------------------------------------------\n",
      "\n",
      "nausea\n",
      "['Não' 'Sim']\n",
      "\n",
      "--------------------------------------------\n",
      "\n",
      "vomitos\n",
      "['Não' 'Sim']\n",
      "\n",
      "--------------------------------------------\n",
      "\n",
      "anosmia\n",
      "['Não' 'Sim']\n",
      "\n",
      "--------------------------------------------\n",
      "\n",
      "ageusia\n",
      "['Não' 'Sim']\n",
      "\n",
      "--------------------------------------------\n",
      "\n",
      "tabagismo\n",
      "['Não']\n",
      "\n",
      "--------------------------------------------\n",
      "\n",
      "drogas\n",
      "['Não' 'Sim']\n",
      "\n",
      "--------------------------------------------\n",
      "\n",
      "etilismo\n",
      "['Não']\n",
      "\n",
      "--------------------------------------------\n",
      "\n",
      "diabetes\n",
      "['Não' 'Sim']\n",
      "\n",
      "--------------------------------------------\n",
      "\n",
      "obesidade\n",
      "['Não' 'Sim']\n",
      "\n",
      "--------------------------------------------\n",
      "\n",
      "hipertensao_arterial\n",
      "['Sim' 'Não']\n",
      "\n",
      "--------------------------------------------\n",
      "\n",
      "doenca_cardiaca\n",
      "['Sim' 'Não']\n",
      "\n",
      "--------------------------------------------\n",
      "\n",
      "doenca_pulmonar\n",
      "['Não' 'Sim']\n",
      "\n",
      "--------------------------------------------\n",
      "\n",
      "doenca_reumatologica\n",
      "['Sim' 'Não']\n",
      "\n",
      "--------------------------------------------\n",
      "\n",
      "doenca_autoimune\n",
      "['Não' 'Sim']\n",
      "\n",
      "--------------------------------------------\n",
      "\n",
      "doenca_renal_cronica\n",
      "['Não' 'Sim']\n",
      "\n",
      "--------------------------------------------\n",
      "\n",
      "doenca_hepatica_cronica\n",
      "['Não' 'Sim']\n",
      "\n",
      "--------------------------------------------\n",
      "\n",
      "doenca_neurologica\n",
      "['Não' 'Sim']\n",
      "\n",
      "--------------------------------------------\n",
      "\n",
      "paciente_chegou_com_suporte_respiratorio\n",
      "['Sim' 'Não']\n",
      "\n",
      "--------------------------------------------\n",
      "\n",
      "vmi\n",
      "['Sim' 'Não']\n",
      "\n",
      "--------------------------------------------\n",
      "\n",
      "uti\n",
      "['Sim' 'Não']\n",
      "\n",
      "--------------------------------------------\n",
      "\n",
      "necessidade_transfusional\n",
      "['Não' 'Sim']\n",
      "\n",
      "--------------------------------------------\n",
      "\n",
      "fenomenos_tromboembolicos_tvp\n",
      "['Não' 'Sim']\n",
      "\n",
      "--------------------------------------------\n",
      "\n",
      "fenomenos_tromboembolicos_tep\n",
      "['Não' 'Sim']\n",
      "\n",
      "--------------------------------------------\n",
      "\n",
      "sepse\n",
      "['Não' 'Sim']\n",
      "\n",
      "--------------------------------------------\n",
      "\n",
      "disfuncao_hepatica\n",
      "['Não' 'Sim']\n",
      "\n",
      "--------------------------------------------\n",
      "\n",
      "choque_septico\n",
      "['Não' 'Sim']\n",
      "\n",
      "--------------------------------------------\n",
      "\n",
      "disfuncao_multipla_de_orgaos\n",
      "['Não' 'Sim']\n",
      "\n",
      "--------------------------------------------\n",
      "\n",
      "choque_hipovolemico\n",
      "['Não' 'Sim']\n",
      "\n",
      "--------------------------------------------\n",
      "\n",
      "complicacao_neurologica\n",
      "['Não' 'Sim']\n",
      "\n",
      "--------------------------------------------\n",
      "\n",
      "hemorragia\n",
      "['Não' 'Sim']\n",
      "\n",
      "--------------------------------------------\n",
      "\n",
      "hemodialise\n",
      "['Sim' 'Não']\n",
      "\n",
      "--------------------------------------------\n",
      "\n",
      "tempo_referencia_internacao\n",
      "[ 4.  3.  1.  0.  5.  6.  2.  8. 10.  9. nan  7. 12. 11. 14. 13. 15. 16.\n",
      " 18.]\n",
      "\n",
      "--------------------------------------------\n",
      "\n",
      "nomemacro\n",
      "['MACRORREGIÃO DE SAÚDE - FORTALEZA'\n",
      " 'MACRORREGIÃO DE SAÚDE - SERTÃO CENTRAL'\n",
      " 'MACRORREGIÃO DE SAÚDE - LITORAL LESTE /JAGUARIBE'\n",
      " 'MACRORREGIÃO DE SAÚDE - SOBRAL' nan]\n",
      "\n",
      "--------------------------------------------\n",
      "\n",
      "idh_label\n",
      "[nan 'Muito baixo' 'Baixo' 'Médio' 'Muito Alto' 'Alto']\n",
      "\n",
      "--------------------------------------------\n",
      "\n",
      "sexo\n",
      "['Feminino' 'Masculino' nan]\n",
      "\n",
      "--------------------------------------------\n",
      "\n",
      "cor_autorreferida\n",
      "['Parda/mulata' 'Não informado' 'Amarela/Oriental' 'Branca' 'Preta' nan]\n",
      "\n",
      "--------------------------------------------\n",
      "\n",
      "estado_civil\n",
      "['Casado/ amasiado' 'Não informado' 'Solteiro' 'Separado / divorciado'\n",
      " 'Viúvo' nan]\n",
      "\n",
      "--------------------------------------------\n",
      "\n",
      "escolaridade\n",
      "['Ensino fundamental incompleto(1ºG)' 'Não informado'\n",
      " 'Ensino médio completo' 'Ensino fundamental completo' 'Analfabeto'\n",
      " 'Ensino médio incompleto(2º.G)' 'Ensino superior completo'\n",
      " 'Ensino superior incompleto' nan]\n",
      "\n",
      "--------------------------------------------\n",
      "\n",
      "tipo_caso_à_admissão\n",
      "['Caso suspeito' 'Caso confirmado' nan]\n",
      "\n",
      "--------------------------------------------\n",
      "\n",
      "desfecho\n",
      "['obito' 'alta' nan]\n",
      "\n",
      "--------------------------------------------\n",
      "\n",
      "obito_menos24horas\n",
      "['Não' nan 'Sim']\n",
      "\n",
      "--------------------------------------------\n",
      "\n",
      "obito_vm\n",
      "['Sim' nan 'Não']\n",
      "\n",
      "--------------------------------------------\n",
      "\n",
      "obito_uti\n",
      "['Sim' nan 'Não']\n",
      "\n",
      "--------------------------------------------\n",
      "\n"
     ]
    }
   ],
   "source": [
    "for i in data.columns:\n",
    "    temp = data[i].unique()\n",
    "    if len(temp) < 20:\n",
    "        print(i)\n",
    "        print(temp)\n",
    "        print(\"\\n--------------------------------------------\\n\")"
   ]
  },
  {
   "cell_type": "code",
   "execution_count": null,
   "id": "053f3e3a",
   "metadata": {},
   "outputs": [],
   "source": []
  },
  {
   "cell_type": "markdown",
   "id": "8878abc3",
   "metadata": {},
   "source": [
    "Conversão das coluna object (\"Sim\" ou \"Não\") para booleano (True, False)"
   ]
  },
  {
   "cell_type": "code",
   "execution_count": 13,
   "id": "3607270e",
   "metadata": {},
   "outputs": [],
   "source": [
    "for i in tipos:\n",
    "    if tipos[i] == 'boolean':\n",
    "        data[i].replace('Não', False, inplace=True)\n",
    "        data[i].replace('Sim', True, inplace=True)\n",
    "        data[i] = data[i].astype(\"boolean\")"
   ]
  },
  {
   "cell_type": "code",
   "execution_count": null,
   "id": "62804b86",
   "metadata": {},
   "outputs": [],
   "source": []
  },
  {
   "cell_type": "markdown",
   "id": "8107db34",
   "metadata": {},
   "source": [
    "Criação de uma versão do dataset contendo a coluna \"desfecho\" como booleana para utilização no método da matriz de correlação"
   ]
  },
  {
   "cell_type": "code",
   "execution_count": 14,
   "id": "99009b37",
   "metadata": {},
   "outputs": [],
   "source": [
    "data_cor = data.copy()\n",
    "data_cor['desfecho'].replace('alta', False, inplace=True)\n",
    "data_cor['desfecho'].replace('obito', True, inplace=True)\n",
    "data_cor['desfecho'] = data_cor['desfecho'].astype(\"boolean\")"
   ]
  },
  {
   "cell_type": "code",
   "execution_count": 15,
   "id": "a620a315",
   "metadata": {},
   "outputs": [
    {
     "data": {
      "text/html": [
       "<div>\n",
       "<style scoped>\n",
       "    .dataframe tbody tr th:only-of-type {\n",
       "        vertical-align: middle;\n",
       "    }\n",
       "\n",
       "    .dataframe tbody tr th {\n",
       "        vertical-align: top;\n",
       "    }\n",
       "\n",
       "    .dataframe thead th {\n",
       "        text-align: right;\n",
       "    }\n",
       "</style>\n",
       "<table border=\"1\" class=\"dataframe\">\n",
       "  <thead>\n",
       "    <tr style=\"text-align: right;\">\n",
       "      <th></th>\n",
       "      <th>paciente_id</th>\n",
       "      <th>coriza</th>\n",
       "      <th>tosse_seca_ou_produtiva</th>\n",
       "      <th>calafrios</th>\n",
       "      <th>febre</th>\n",
       "      <th>dispneia</th>\n",
       "      <th>fadiga</th>\n",
       "      <th>anorexia</th>\n",
       "      <th>mialgia</th>\n",
       "      <th>astenia</th>\n",
       "      <th>...</th>\n",
       "      <th>idade</th>\n",
       "      <th>cor_autorreferida</th>\n",
       "      <th>estado_civil</th>\n",
       "      <th>escolaridade</th>\n",
       "      <th>tipo_caso_à_admissão</th>\n",
       "      <th>tempo_sintomas_internacao</th>\n",
       "      <th>desfecho</th>\n",
       "      <th>obito_menos24horas</th>\n",
       "      <th>obito_vm</th>\n",
       "      <th>obito_uti</th>\n",
       "    </tr>\n",
       "  </thead>\n",
       "  <tbody>\n",
       "    <tr>\n",
       "      <th>0</th>\n",
       "      <td>e5841df2166dd424a57127423d276bbe</td>\n",
       "      <td>False</td>\n",
       "      <td>False</td>\n",
       "      <td>False</td>\n",
       "      <td>False</td>\n",
       "      <td>False</td>\n",
       "      <td>False</td>\n",
       "      <td>False</td>\n",
       "      <td>False</td>\n",
       "      <td>False</td>\n",
       "      <td>...</td>\n",
       "      <td>76.0</td>\n",
       "      <td>Parda/mulata</td>\n",
       "      <td>Casado/ amasiado</td>\n",
       "      <td>Ensino fundamental incompleto(1ºG)</td>\n",
       "      <td>Caso suspeito</td>\n",
       "      <td>NaN</td>\n",
       "      <td>True</td>\n",
       "      <td>False</td>\n",
       "      <td>True</td>\n",
       "      <td>True</td>\n",
       "    </tr>\n",
       "    <tr>\n",
       "      <th>1</th>\n",
       "      <td>3c59dc048e8850243be8079a5c74d079</td>\n",
       "      <td>False</td>\n",
       "      <td>True</td>\n",
       "      <td>False</td>\n",
       "      <td>True</td>\n",
       "      <td>True</td>\n",
       "      <td>False</td>\n",
       "      <td>False</td>\n",
       "      <td>True</td>\n",
       "      <td>False</td>\n",
       "      <td>...</td>\n",
       "      <td>33.0</td>\n",
       "      <td>Não informado</td>\n",
       "      <td>Não informado</td>\n",
       "      <td>Não informado</td>\n",
       "      <td>Caso suspeito</td>\n",
       "      <td>7.0</td>\n",
       "      <td>False</td>\n",
       "      <td>&lt;NA&gt;</td>\n",
       "      <td>&lt;NA&gt;</td>\n",
       "      <td>&lt;NA&gt;</td>\n",
       "    </tr>\n",
       "    <tr>\n",
       "      <th>2</th>\n",
       "      <td>99c5e07b4d5de9d18c350cdf64c5aa3d</td>\n",
       "      <td>False</td>\n",
       "      <td>False</td>\n",
       "      <td>False</td>\n",
       "      <td>True</td>\n",
       "      <td>True</td>\n",
       "      <td>False</td>\n",
       "      <td>False</td>\n",
       "      <td>False</td>\n",
       "      <td>False</td>\n",
       "      <td>...</td>\n",
       "      <td>42.0</td>\n",
       "      <td>Amarela/Oriental</td>\n",
       "      <td>Casado/ amasiado</td>\n",
       "      <td>Ensino médio completo</td>\n",
       "      <td>Caso suspeito</td>\n",
       "      <td>10.0</td>\n",
       "      <td>False</td>\n",
       "      <td>&lt;NA&gt;</td>\n",
       "      <td>&lt;NA&gt;</td>\n",
       "      <td>&lt;NA&gt;</td>\n",
       "    </tr>\n",
       "    <tr>\n",
       "      <th>3</th>\n",
       "      <td>1587965fb4d4b5afe8428a4a024feb0d</td>\n",
       "      <td>False</td>\n",
       "      <td>False</td>\n",
       "      <td>False</td>\n",
       "      <td>False</td>\n",
       "      <td>True</td>\n",
       "      <td>False</td>\n",
       "      <td>False</td>\n",
       "      <td>False</td>\n",
       "      <td>False</td>\n",
       "      <td>...</td>\n",
       "      <td>64.0</td>\n",
       "      <td>Branca</td>\n",
       "      <td>Casado/ amasiado</td>\n",
       "      <td>Ensino fundamental incompleto(1ºG)</td>\n",
       "      <td>Caso suspeito</td>\n",
       "      <td>11.0</td>\n",
       "      <td>True</td>\n",
       "      <td>False</td>\n",
       "      <td>True</td>\n",
       "      <td>True</td>\n",
       "    </tr>\n",
       "    <tr>\n",
       "      <th>4</th>\n",
       "      <td>b4a528955b84f584974e92d025a75d1f</td>\n",
       "      <td>False</td>\n",
       "      <td>False</td>\n",
       "      <td>False</td>\n",
       "      <td>False</td>\n",
       "      <td>True</td>\n",
       "      <td>False</td>\n",
       "      <td>False</td>\n",
       "      <td>False</td>\n",
       "      <td>False</td>\n",
       "      <td>...</td>\n",
       "      <td>73.0</td>\n",
       "      <td>Parda/mulata</td>\n",
       "      <td>Casado/ amasiado</td>\n",
       "      <td>Ensino fundamental incompleto(1ºG)</td>\n",
       "      <td>Caso suspeito</td>\n",
       "      <td>7.0</td>\n",
       "      <td>True</td>\n",
       "      <td>False</td>\n",
       "      <td>True</td>\n",
       "      <td>True</td>\n",
       "    </tr>\n",
       "  </tbody>\n",
       "</table>\n",
       "<p>5 rows × 65 columns</p>\n",
       "</div>"
      ],
      "text/plain": [
       "                        paciente_id  coriza  tosse_seca_ou_produtiva  \\\n",
       "0  e5841df2166dd424a57127423d276bbe   False                    False   \n",
       "1  3c59dc048e8850243be8079a5c74d079   False                     True   \n",
       "2  99c5e07b4d5de9d18c350cdf64c5aa3d   False                    False   \n",
       "3  1587965fb4d4b5afe8428a4a024feb0d   False                    False   \n",
       "4  b4a528955b84f584974e92d025a75d1f   False                    False   \n",
       "\n",
       "   calafrios  febre  dispneia  fadiga  anorexia  mialgia  astenia  ...  idade  \\\n",
       "0      False  False     False   False     False    False    False  ...   76.0   \n",
       "1      False   True      True   False     False     True    False  ...   33.0   \n",
       "2      False   True      True   False     False    False    False  ...   42.0   \n",
       "3      False  False      True   False     False    False    False  ...   64.0   \n",
       "4      False  False      True   False     False    False    False  ...   73.0   \n",
       "\n",
       "   cor_autorreferida      estado_civil                        escolaridade  \\\n",
       "0       Parda/mulata  Casado/ amasiado  Ensino fundamental incompleto(1ºG)   \n",
       "1      Não informado     Não informado                       Não informado   \n",
       "2   Amarela/Oriental  Casado/ amasiado               Ensino médio completo   \n",
       "3             Branca  Casado/ amasiado  Ensino fundamental incompleto(1ºG)   \n",
       "4       Parda/mulata  Casado/ amasiado  Ensino fundamental incompleto(1ºG)   \n",
       "\n",
       "   tipo_caso_à_admissão  tempo_sintomas_internacao  desfecho  \\\n",
       "0         Caso suspeito                        NaN      True   \n",
       "1         Caso suspeito                        7.0     False   \n",
       "2         Caso suspeito                       10.0     False   \n",
       "3         Caso suspeito                       11.0      True   \n",
       "4         Caso suspeito                        7.0      True   \n",
       "\n",
       "   obito_menos24horas  obito_vm  obito_uti  \n",
       "0               False      True       True  \n",
       "1                <NA>      <NA>       <NA>  \n",
       "2                <NA>      <NA>       <NA>  \n",
       "3               False      True       True  \n",
       "4               False      True       True  \n",
       "\n",
       "[5 rows x 65 columns]"
      ]
     },
     "execution_count": 15,
     "metadata": {},
     "output_type": "execute_result"
    }
   ],
   "source": [
    "data_cor.head()"
   ]
  },
  {
   "cell_type": "markdown",
   "id": "bd4f26ba",
   "metadata": {},
   "source": [
    "#### VERIFICAÇÃO DA INTEGRIDADE DOS DADOS\n",
    "Testamos se alguma das entradas tinha ido a óbito na UTI, com ventilação mecanica ou menos de 24 horas depois de dar entrada no hospital ao mesmo tempo que recebeu alta."
   ]
  },
  {
   "cell_type": "code",
   "execution_count": 16,
   "id": "4419047c",
   "metadata": {},
   "outputs": [
    {
     "name": "stdout",
     "output_type": "stream",
     "text": [
      "1 0 0\n"
     ]
    }
   ],
   "source": [
    "print(len(data[(data['desfecho'] == 'alta') & (data['obito_uti'] == True)]),\n",
    "len(data[(data['desfecho'] == 'alta') & (data['obito_menos24horas'] == True)]),\n",
    "len(data[(data['desfecho'] == 'alta') & (data['obito_vm'] == True)]))"
   ]
  },
  {
   "cell_type": "markdown",
   "id": "2c48604e",
   "metadata": {},
   "source": [
    "Foi possível verificar no dataset uma inconsistencia onde um paciente recebeu alta (desfecho == True) e ao mesmo tempo chegou a obito na UTI (obito_uti == True). O dado foi removido do dataset e o index foi refeito."
   ]
  },
  {
   "cell_type": "code",
   "execution_count": 17,
   "id": "fa9834fa",
   "metadata": {},
   "outputs": [
    {
     "name": "stdout",
     "output_type": "stream",
     "text": [
      "Tamanho antes da remoção:  576\n",
      "Tamanho após a remoção:  575\n"
     ]
    }
   ],
   "source": [
    "print(\"Tamanho antes da remoção: \",len(data))\n",
    "data.drop(data[(data['desfecho'] == 'alta') & (data['obito_uti'] == True)].index, inplace=True)\n",
    "data.reset_index(drop=True, inplace=True)\n",
    "print(\"Tamanho após a remoção: \",len(data))"
   ]
  },
  {
   "cell_type": "markdown",
   "id": "1ee6d819",
   "metadata": {},
   "source": [
    "Durante o plot dos dados de \"tempo_sintomas_internacao\"  foi notado que uma entrada era negativa, o que foi entendido como um erro e esta entrada foi multiplicada por -1 para ser positiva."
   ]
  },
  {
   "cell_type": "code",
   "execution_count": 18,
   "id": "8357e8c9",
   "metadata": {
    "scrolled": true
   },
   "outputs": [
    {
     "name": "stdout",
     "output_type": "stream",
     "text": [
      "1\n",
      "0\n"
     ]
    }
   ],
   "source": [
    "print(len(data[data[\"tempo_sintomas_internacao\"]<0]))\n",
    "index = data[data[\"tempo_sintomas_internacao\"]<0].index\n",
    "data.loc[index[0],\"tempo_sintomas_internacao\"] *=(-1)\n",
    "print(len(data[data[\"tempo_sintomas_internacao\"]<0]))"
   ]
  },
  {
   "cell_type": "markdown",
   "id": "2b16027f",
   "metadata": {},
   "source": [
    "# 2. Visualização e Análise Exploratória dos Dados"
   ]
  },
  {
   "cell_type": "markdown",
   "id": "d12d854a",
   "metadata": {},
   "source": [
    "Criação da matriz de correlação do dataset utilizando o método de pearson. Foi escolhido este método já que os métodos \"Kendall Tau\" e \"Spearman rank\" não são adequadas para valores booleanos."
   ]
  },
  {
   "cell_type": "code",
   "execution_count": 19,
   "id": "07a4b122",
   "metadata": {},
   "outputs": [],
   "source": [
    "cor_mtx = data_cor.corr(method ='pearson')"
   ]
  },
  {
   "cell_type": "code",
   "execution_count": 20,
   "id": "b45dd557",
   "metadata": {
    "scrolled": true
   },
   "outputs": [
    {
     "data": {
      "text/html": [
       "<div>\n",
       "<style scoped>\n",
       "    .dataframe tbody tr th:only-of-type {\n",
       "        vertical-align: middle;\n",
       "    }\n",
       "\n",
       "    .dataframe tbody tr th {\n",
       "        vertical-align: top;\n",
       "    }\n",
       "\n",
       "    .dataframe thead th {\n",
       "        text-align: right;\n",
       "    }\n",
       "</style>\n",
       "<table border=\"1\" class=\"dataframe\">\n",
       "  <thead>\n",
       "    <tr style=\"text-align: right;\">\n",
       "      <th></th>\n",
       "      <th>coriza</th>\n",
       "      <th>tosse_seca_ou_produtiva</th>\n",
       "      <th>calafrios</th>\n",
       "      <th>febre</th>\n",
       "      <th>dispneia</th>\n",
       "      <th>fadiga</th>\n",
       "      <th>anorexia</th>\n",
       "      <th>mialgia</th>\n",
       "      <th>astenia</th>\n",
       "      <th>dor_de_garganta</th>\n",
       "      <th>...</th>\n",
       "      <th>tempo_internacao</th>\n",
       "      <th>tempo_referencia_internacao</th>\n",
       "      <th>latitude</th>\n",
       "      <th>longitude</th>\n",
       "      <th>idade</th>\n",
       "      <th>tempo_sintomas_internacao</th>\n",
       "      <th>desfecho</th>\n",
       "      <th>obito_menos24horas</th>\n",
       "      <th>obito_vm</th>\n",
       "      <th>obito_uti</th>\n",
       "    </tr>\n",
       "  </thead>\n",
       "  <tbody>\n",
       "    <tr>\n",
       "      <th>coriza</th>\n",
       "      <td>1.000000</td>\n",
       "      <td>0.119250</td>\n",
       "      <td>-0.024469</td>\n",
       "      <td>0.052304</td>\n",
       "      <td>0.053274</td>\n",
       "      <td>0.011305</td>\n",
       "      <td>-0.003210</td>\n",
       "      <td>0.060293</td>\n",
       "      <td>0.003928</td>\n",
       "      <td>0.115239</td>\n",
       "      <td>...</td>\n",
       "      <td>-0.001677</td>\n",
       "      <td>0.010579</td>\n",
       "      <td>-0.045387</td>\n",
       "      <td>0.092019</td>\n",
       "      <td>0.010280</td>\n",
       "      <td>0.023486</td>\n",
       "      <td>-0.054121</td>\n",
       "      <td>0.010607</td>\n",
       "      <td>0.009104</td>\n",
       "      <td>-0.010888</td>\n",
       "    </tr>\n",
       "    <tr>\n",
       "      <th>tosse_seca_ou_produtiva</th>\n",
       "      <td>0.119250</td>\n",
       "      <td>1.000000</td>\n",
       "      <td>0.019379</td>\n",
       "      <td>0.388732</td>\n",
       "      <td>0.280591</td>\n",
       "      <td>0.065824</td>\n",
       "      <td>-0.000762</td>\n",
       "      <td>0.146149</td>\n",
       "      <td>0.071714</td>\n",
       "      <td>0.108382</td>\n",
       "      <td>...</td>\n",
       "      <td>-0.104057</td>\n",
       "      <td>-0.059489</td>\n",
       "      <td>0.084730</td>\n",
       "      <td>0.184805</td>\n",
       "      <td>-0.089624</td>\n",
       "      <td>0.022163</td>\n",
       "      <td>-0.221997</td>\n",
       "      <td>-0.084751</td>\n",
       "      <td>-0.076975</td>\n",
       "      <td>-0.097331</td>\n",
       "    </tr>\n",
       "    <tr>\n",
       "      <th>calafrios</th>\n",
       "      <td>-0.024469</td>\n",
       "      <td>0.019379</td>\n",
       "      <td>1.000000</td>\n",
       "      <td>-0.008998</td>\n",
       "      <td>-0.023264</td>\n",
       "      <td>-0.024469</td>\n",
       "      <td>0.073943</td>\n",
       "      <td>0.051900</td>\n",
       "      <td>0.026498</td>\n",
       "      <td>0.088408</td>\n",
       "      <td>...</td>\n",
       "      <td>0.004102</td>\n",
       "      <td>0.021639</td>\n",
       "      <td>-0.024777</td>\n",
       "      <td>0.025267</td>\n",
       "      <td>-0.015672</td>\n",
       "      <td>-0.017705</td>\n",
       "      <td>-0.045287</td>\n",
       "      <td>-0.021491</td>\n",
       "      <td>-0.173973</td>\n",
       "      <td>0.021393</td>\n",
       "    </tr>\n",
       "    <tr>\n",
       "      <th>febre</th>\n",
       "      <td>0.052304</td>\n",
       "      <td>0.388732</td>\n",
       "      <td>-0.008998</td>\n",
       "      <td>1.000000</td>\n",
       "      <td>0.258907</td>\n",
       "      <td>0.035407</td>\n",
       "      <td>0.038906</td>\n",
       "      <td>0.216708</td>\n",
       "      <td>0.060026</td>\n",
       "      <td>0.066621</td>\n",
       "      <td>...</td>\n",
       "      <td>-0.083860</td>\n",
       "      <td>-0.057912</td>\n",
       "      <td>-0.021045</td>\n",
       "      <td>0.139272</td>\n",
       "      <td>-0.098044</td>\n",
       "      <td>0.006345</td>\n",
       "      <td>-0.087356</td>\n",
       "      <td>-0.100652</td>\n",
       "      <td>-0.115529</td>\n",
       "      <td>-0.083887</td>\n",
       "    </tr>\n",
       "    <tr>\n",
       "      <th>dispneia</th>\n",
       "      <td>0.053274</td>\n",
       "      <td>0.280591</td>\n",
       "      <td>-0.023264</td>\n",
       "      <td>0.258907</td>\n",
       "      <td>1.000000</td>\n",
       "      <td>-0.101314</td>\n",
       "      <td>-0.095935</td>\n",
       "      <td>0.073436</td>\n",
       "      <td>0.045153</td>\n",
       "      <td>0.041892</td>\n",
       "      <td>...</td>\n",
       "      <td>0.031786</td>\n",
       "      <td>-0.087636</td>\n",
       "      <td>-0.062330</td>\n",
       "      <td>0.082345</td>\n",
       "      <td>0.004374</td>\n",
       "      <td>-0.014046</td>\n",
       "      <td>-0.064232</td>\n",
       "      <td>-0.014546</td>\n",
       "      <td>-0.021248</td>\n",
       "      <td>-0.030124</td>\n",
       "    </tr>\n",
       "    <tr>\n",
       "      <th>fadiga</th>\n",
       "      <td>0.011305</td>\n",
       "      <td>0.065824</td>\n",
       "      <td>-0.024469</td>\n",
       "      <td>0.035407</td>\n",
       "      <td>-0.101314</td>\n",
       "      <td>1.000000</td>\n",
       "      <td>0.122860</td>\n",
       "      <td>0.163754</td>\n",
       "      <td>0.296712</td>\n",
       "      <td>-0.020170</td>\n",
       "      <td>...</td>\n",
       "      <td>-0.034359</td>\n",
       "      <td>0.074089</td>\n",
       "      <td>0.008667</td>\n",
       "      <td>0.030278</td>\n",
       "      <td>-0.041902</td>\n",
       "      <td>0.008857</td>\n",
       "      <td>-0.037640</td>\n",
       "      <td>-0.065630</td>\n",
       "      <td>0.076652</td>\n",
       "      <td>0.069015</td>\n",
       "    </tr>\n",
       "    <tr>\n",
       "      <th>anorexia</th>\n",
       "      <td>-0.003210</td>\n",
       "      <td>-0.000762</td>\n",
       "      <td>0.073943</td>\n",
       "      <td>0.038906</td>\n",
       "      <td>-0.095935</td>\n",
       "      <td>0.122860</td>\n",
       "      <td>1.000000</td>\n",
       "      <td>0.032177</td>\n",
       "      <td>0.005240</td>\n",
       "      <td>-0.025732</td>\n",
       "      <td>...</td>\n",
       "      <td>-0.030010</td>\n",
       "      <td>0.023973</td>\n",
       "      <td>0.048837</td>\n",
       "      <td>-0.007281</td>\n",
       "      <td>0.082205</td>\n",
       "      <td>0.097295</td>\n",
       "      <td>0.029539</td>\n",
       "      <td>-0.065630</td>\n",
       "      <td>-0.058444</td>\n",
       "      <td>-0.010888</td>\n",
       "    </tr>\n",
       "    <tr>\n",
       "      <th>mialgia</th>\n",
       "      <td>0.060293</td>\n",
       "      <td>0.146149</td>\n",
       "      <td>0.051900</td>\n",
       "      <td>0.216708</td>\n",
       "      <td>0.073436</td>\n",
       "      <td>0.163754</td>\n",
       "      <td>0.032177</td>\n",
       "      <td>1.000000</td>\n",
       "      <td>0.154301</td>\n",
       "      <td>0.096025</td>\n",
       "      <td>...</td>\n",
       "      <td>-0.027584</td>\n",
       "      <td>-0.020653</td>\n",
       "      <td>-0.063215</td>\n",
       "      <td>0.050669</td>\n",
       "      <td>-0.074439</td>\n",
       "      <td>-0.005309</td>\n",
       "      <td>-0.071329</td>\n",
       "      <td>-0.037546</td>\n",
       "      <td>-0.009872</td>\n",
       "      <td>-0.029867</td>\n",
       "    </tr>\n",
       "    <tr>\n",
       "      <th>astenia</th>\n",
       "      <td>0.003928</td>\n",
       "      <td>0.071714</td>\n",
       "      <td>0.026498</td>\n",
       "      <td>0.060026</td>\n",
       "      <td>0.045153</td>\n",
       "      <td>0.296712</td>\n",
       "      <td>0.005240</td>\n",
       "      <td>0.154301</td>\n",
       "      <td>1.000000</td>\n",
       "      <td>0.091070</td>\n",
       "      <td>...</td>\n",
       "      <td>-0.059416</td>\n",
       "      <td>-0.062953</td>\n",
       "      <td>0.043385</td>\n",
       "      <td>0.071661</td>\n",
       "      <td>-0.014540</td>\n",
       "      <td>-0.089042</td>\n",
       "      <td>-0.135044</td>\n",
       "      <td>0.003152</td>\n",
       "      <td>0.080982</td>\n",
       "      <td>0.072548</td>\n",
       "    </tr>\n",
       "    <tr>\n",
       "      <th>dor_de_garganta</th>\n",
       "      <td>0.115239</td>\n",
       "      <td>0.108382</td>\n",
       "      <td>0.088408</td>\n",
       "      <td>0.066621</td>\n",
       "      <td>0.041892</td>\n",
       "      <td>-0.020170</td>\n",
       "      <td>-0.025732</td>\n",
       "      <td>0.096025</td>\n",
       "      <td>0.091070</td>\n",
       "      <td>1.000000</td>\n",
       "      <td>...</td>\n",
       "      <td>0.014603</td>\n",
       "      <td>-0.003393</td>\n",
       "      <td>0.041855</td>\n",
       "      <td>0.083539</td>\n",
       "      <td>-0.059793</td>\n",
       "      <td>-0.028225</td>\n",
       "      <td>-0.144275</td>\n",
       "      <td>-0.061737</td>\n",
       "      <td>-0.070862</td>\n",
       "      <td>-0.099858</td>\n",
       "    </tr>\n",
       "    <tr>\n",
       "      <th>congestao_nasal</th>\n",
       "      <td>0.417024</td>\n",
       "      <td>0.065091</td>\n",
       "      <td>-0.019459</td>\n",
       "      <td>0.038906</td>\n",
       "      <td>-0.000662</td>\n",
       "      <td>-0.003210</td>\n",
       "      <td>-0.035971</td>\n",
       "      <td>-0.031587</td>\n",
       "      <td>0.038048</td>\n",
       "      <td>0.074413</td>\n",
       "      <td>...</td>\n",
       "      <td>0.052918</td>\n",
       "      <td>-0.014981</td>\n",
       "      <td>-0.022696</td>\n",
       "      <td>0.080069</td>\n",
       "      <td>-0.047096</td>\n",
       "      <td>-0.029062</td>\n",
       "      <td>-0.090426</td>\n",
       "      <td>-0.037388</td>\n",
       "      <td>0.043667</td>\n",
       "      <td>0.043068</td>\n",
       "    </tr>\n",
       "    <tr>\n",
       "      <th>cefaleia</th>\n",
       "      <td>-0.004450</td>\n",
       "      <td>0.156965</td>\n",
       "      <td>0.109319</td>\n",
       "      <td>0.121301</td>\n",
       "      <td>0.029205</td>\n",
       "      <td>0.063003</td>\n",
       "      <td>0.146656</td>\n",
       "      <td>0.177453</td>\n",
       "      <td>0.084661</td>\n",
       "      <td>0.090977</td>\n",
       "      <td>...</td>\n",
       "      <td>-0.085223</td>\n",
       "      <td>-0.007825</td>\n",
       "      <td>0.040939</td>\n",
       "      <td>0.045369</td>\n",
       "      <td>-0.090266</td>\n",
       "      <td>0.019501</td>\n",
       "      <td>-0.114775</td>\n",
       "      <td>-0.043893</td>\n",
       "      <td>-0.028754</td>\n",
       "      <td>-0.010224</td>\n",
       "    </tr>\n",
       "    <tr>\n",
       "      <th>diarreia</th>\n",
       "      <td>0.039671</td>\n",
       "      <td>0.059753</td>\n",
       "      <td>0.073621</td>\n",
       "      <td>0.103651</td>\n",
       "      <td>0.060251</td>\n",
       "      <td>0.015021</td>\n",
       "      <td>0.024687</td>\n",
       "      <td>0.033896</td>\n",
       "      <td>-0.034580</td>\n",
       "      <td>0.086584</td>\n",
       "      <td>...</td>\n",
       "      <td>-0.005446</td>\n",
       "      <td>-0.006548</td>\n",
       "      <td>-0.029650</td>\n",
       "      <td>0.057970</td>\n",
       "      <td>-0.008998</td>\n",
       "      <td>0.042614</td>\n",
       "      <td>-0.066927</td>\n",
       "      <td>-0.094765</td>\n",
       "      <td>-0.035621</td>\n",
       "      <td>0.039298</td>\n",
       "    </tr>\n",
       "    <tr>\n",
       "      <th>nausea</th>\n",
       "      <td>-0.007387</td>\n",
       "      <td>-0.011285</td>\n",
       "      <td>0.068771</td>\n",
       "      <td>-0.010845</td>\n",
       "      <td>-0.024963</td>\n",
       "      <td>0.072893</td>\n",
       "      <td>0.061159</td>\n",
       "      <td>0.080503</td>\n",
       "      <td>0.030576</td>\n",
       "      <td>0.033546</td>\n",
       "      <td>...</td>\n",
       "      <td>-0.033750</td>\n",
       "      <td>-0.059853</td>\n",
       "      <td>0.022851</td>\n",
       "      <td>0.007275</td>\n",
       "      <td>0.026140</td>\n",
       "      <td>-0.061349</td>\n",
       "      <td>-0.076145</td>\n",
       "      <td>0.052889</td>\n",
       "      <td>-0.033193</td>\n",
       "      <td>-0.053084</td>\n",
       "    </tr>\n",
       "    <tr>\n",
       "      <th>vomitos</th>\n",
       "      <td>0.032753</td>\n",
       "      <td>-0.074187</td>\n",
       "      <td>0.068771</td>\n",
       "      <td>-0.010845</td>\n",
       "      <td>-0.024963</td>\n",
       "      <td>0.032753</td>\n",
       "      <td>0.061159</td>\n",
       "      <td>0.039899</td>\n",
       "      <td>-0.063437</td>\n",
       "      <td>0.033546</td>\n",
       "      <td>...</td>\n",
       "      <td>-0.021076</td>\n",
       "      <td>-0.036137</td>\n",
       "      <td>0.002121</td>\n",
       "      <td>0.015270</td>\n",
       "      <td>-0.018196</td>\n",
       "      <td>-0.089107</td>\n",
       "      <td>0.001978</td>\n",
       "      <td>0.010607</td>\n",
       "      <td>0.009104</td>\n",
       "      <td>-0.010888</td>\n",
       "    </tr>\n",
       "    <tr>\n",
       "      <th>anosmia</th>\n",
       "      <td>0.005478</td>\n",
       "      <td>0.139949</td>\n",
       "      <td>0.118842</td>\n",
       "      <td>0.122977</td>\n",
       "      <td>0.034291</td>\n",
       "      <td>0.076116</td>\n",
       "      <td>0.161643</td>\n",
       "      <td>0.140512</td>\n",
       "      <td>0.120573</td>\n",
       "      <td>0.145930</td>\n",
       "      <td>...</td>\n",
       "      <td>-0.110924</td>\n",
       "      <td>-0.050325</td>\n",
       "      <td>-0.002692</td>\n",
       "      <td>0.088075</td>\n",
       "      <td>-0.128038</td>\n",
       "      <td>-0.014589</td>\n",
       "      <td>-0.149645</td>\n",
       "      <td>-0.079602</td>\n",
       "      <td>-0.020468</td>\n",
       "      <td>-0.041204</td>\n",
       "    </tr>\n",
       "    <tr>\n",
       "      <th>ageusia</th>\n",
       "      <td>0.020073</td>\n",
       "      <td>0.117357</td>\n",
       "      <td>-0.029141</td>\n",
       "      <td>0.066970</td>\n",
       "      <td>0.005645</td>\n",
       "      <td>0.137160</td>\n",
       "      <td>0.126532</td>\n",
       "      <td>0.106668</td>\n",
       "      <td>0.115255</td>\n",
       "      <td>0.120741</td>\n",
       "      <td>...</td>\n",
       "      <td>-0.086081</td>\n",
       "      <td>-0.007453</td>\n",
       "      <td>-0.042698</td>\n",
       "      <td>0.044665</td>\n",
       "      <td>-0.038386</td>\n",
       "      <td>0.031251</td>\n",
       "      <td>-0.086060</td>\n",
       "      <td>-0.069338</td>\n",
       "      <td>-0.047472</td>\n",
       "      <td>-0.065952</td>\n",
       "    </tr>\n",
       "    <tr>\n",
       "      <th>tabagismo</th>\n",
       "      <td>NaN</td>\n",
       "      <td>NaN</td>\n",
       "      <td>NaN</td>\n",
       "      <td>NaN</td>\n",
       "      <td>NaN</td>\n",
       "      <td>NaN</td>\n",
       "      <td>NaN</td>\n",
       "      <td>NaN</td>\n",
       "      <td>NaN</td>\n",
       "      <td>NaN</td>\n",
       "      <td>...</td>\n",
       "      <td>NaN</td>\n",
       "      <td>NaN</td>\n",
       "      <td>NaN</td>\n",
       "      <td>NaN</td>\n",
       "      <td>NaN</td>\n",
       "      <td>NaN</td>\n",
       "      <td>NaN</td>\n",
       "      <td>NaN</td>\n",
       "      <td>NaN</td>\n",
       "      <td>NaN</td>\n",
       "    </tr>\n",
       "    <tr>\n",
       "      <th>drogas</th>\n",
       "      <td>-0.017257</td>\n",
       "      <td>0.041582</td>\n",
       "      <td>-0.007424</td>\n",
       "      <td>0.046626</td>\n",
       "      <td>0.023979</td>\n",
       "      <td>-0.017257</td>\n",
       "      <td>-0.013723</td>\n",
       "      <td>0.009573</td>\n",
       "      <td>-0.023034</td>\n",
       "      <td>0.062350</td>\n",
       "      <td>...</td>\n",
       "      <td>0.104126</td>\n",
       "      <td>-0.043106</td>\n",
       "      <td>-0.025398</td>\n",
       "      <td>0.117551</td>\n",
       "      <td>-0.092845</td>\n",
       "      <td>-0.049109</td>\n",
       "      <td>-0.057346</td>\n",
       "      <td>NaN</td>\n",
       "      <td>NaN</td>\n",
       "      <td>NaN</td>\n",
       "    </tr>\n",
       "    <tr>\n",
       "      <th>etilismo</th>\n",
       "      <td>NaN</td>\n",
       "      <td>NaN</td>\n",
       "      <td>NaN</td>\n",
       "      <td>NaN</td>\n",
       "      <td>NaN</td>\n",
       "      <td>NaN</td>\n",
       "      <td>NaN</td>\n",
       "      <td>NaN</td>\n",
       "      <td>NaN</td>\n",
       "      <td>NaN</td>\n",
       "      <td>...</td>\n",
       "      <td>NaN</td>\n",
       "      <td>NaN</td>\n",
       "      <td>NaN</td>\n",
       "      <td>NaN</td>\n",
       "      <td>NaN</td>\n",
       "      <td>NaN</td>\n",
       "      <td>NaN</td>\n",
       "      <td>NaN</td>\n",
       "      <td>NaN</td>\n",
       "      <td>NaN</td>\n",
       "    </tr>\n",
       "    <tr>\n",
       "      <th>diabetes</th>\n",
       "      <td>-0.038441</td>\n",
       "      <td>0.038597</td>\n",
       "      <td>-0.042843</td>\n",
       "      <td>0.033217</td>\n",
       "      <td>0.023860</td>\n",
       "      <td>0.041321</td>\n",
       "      <td>0.051889</td>\n",
       "      <td>0.063314</td>\n",
       "      <td>0.093320</td>\n",
       "      <td>0.028248</td>\n",
       "      <td>...</td>\n",
       "      <td>0.006956</td>\n",
       "      <td>0.015280</td>\n",
       "      <td>0.042759</td>\n",
       "      <td>0.003480</td>\n",
       "      <td>0.161303</td>\n",
       "      <td>-0.027171</td>\n",
       "      <td>0.136659</td>\n",
       "      <td>-0.052268</td>\n",
       "      <td>0.075426</td>\n",
       "      <td>0.050911</td>\n",
       "    </tr>\n",
       "    <tr>\n",
       "      <th>obesidade</th>\n",
       "      <td>0.067754</td>\n",
       "      <td>0.077558</td>\n",
       "      <td>0.055485</td>\n",
       "      <td>-0.014705</td>\n",
       "      <td>0.038901</td>\n",
       "      <td>0.032769</td>\n",
       "      <td>-0.005241</td>\n",
       "      <td>0.040521</td>\n",
       "      <td>-0.012211</td>\n",
       "      <td>0.022653</td>\n",
       "      <td>...</td>\n",
       "      <td>0.192706</td>\n",
       "      <td>0.007398</td>\n",
       "      <td>-0.028024</td>\n",
       "      <td>-0.008709</td>\n",
       "      <td>-0.119838</td>\n",
       "      <td>-0.055822</td>\n",
       "      <td>0.114025</td>\n",
       "      <td>-0.215114</td>\n",
       "      <td>0.023515</td>\n",
       "      <td>-0.010697</td>\n",
       "    </tr>\n",
       "    <tr>\n",
       "      <th>hipertensao_arterial</th>\n",
       "      <td>-0.013494</td>\n",
       "      <td>0.017992</td>\n",
       "      <td>0.031715</td>\n",
       "      <td>-0.033916</td>\n",
       "      <td>0.013873</td>\n",
       "      <td>0.001897</td>\n",
       "      <td>0.033332</td>\n",
       "      <td>-0.014948</td>\n",
       "      <td>0.034317</td>\n",
       "      <td>-0.001465</td>\n",
       "      <td>...</td>\n",
       "      <td>0.056220</td>\n",
       "      <td>0.107989</td>\n",
       "      <td>0.019785</td>\n",
       "      <td>-0.069186</td>\n",
       "      <td>0.310981</td>\n",
       "      <td>0.047488</td>\n",
       "      <td>0.105900</td>\n",
       "      <td>-0.075549</td>\n",
       "      <td>0.013687</td>\n",
       "      <td>0.014173</td>\n",
       "    </tr>\n",
       "    <tr>\n",
       "      <th>doenca_cardiaca</th>\n",
       "      <td>-0.066886</td>\n",
       "      <td>-0.024312</td>\n",
       "      <td>0.036994</td>\n",
       "      <td>-0.039260</td>\n",
       "      <td>-0.041230</td>\n",
       "      <td>-0.037296</td>\n",
       "      <td>-0.016717</td>\n",
       "      <td>-0.082626</td>\n",
       "      <td>0.049331</td>\n",
       "      <td>-0.063905</td>\n",
       "      <td>...</td>\n",
       "      <td>0.017055</td>\n",
       "      <td>0.076511</td>\n",
       "      <td>0.010032</td>\n",
       "      <td>-0.059100</td>\n",
       "      <td>0.118712</td>\n",
       "      <td>-0.037292</td>\n",
       "      <td>0.098974</td>\n",
       "      <td>0.076403</td>\n",
       "      <td>-0.077758</td>\n",
       "      <td>0.018084</td>\n",
       "    </tr>\n",
       "    <tr>\n",
       "      <th>doenca_pulmonar</th>\n",
       "      <td>-0.034888</td>\n",
       "      <td>-0.032715</td>\n",
       "      <td>0.039239</td>\n",
       "      <td>-0.078954</td>\n",
       "      <td>0.021918</td>\n",
       "      <td>-0.034888</td>\n",
       "      <td>-0.051811</td>\n",
       "      <td>-0.060803</td>\n",
       "      <td>-0.039708</td>\n",
       "      <td>0.011019</td>\n",
       "      <td>...</td>\n",
       "      <td>0.026056</td>\n",
       "      <td>0.028529</td>\n",
       "      <td>0.055052</td>\n",
       "      <td>0.062315</td>\n",
       "      <td>0.083547</td>\n",
       "      <td>0.039314</td>\n",
       "      <td>0.004825</td>\n",
       "      <td>-0.030821</td>\n",
       "      <td>-0.050588</td>\n",
       "      <td>-0.085741</td>\n",
       "    </tr>\n",
       "    <tr>\n",
       "      <th>doenca_reumatologica</th>\n",
       "      <td>-0.031701</td>\n",
       "      <td>-0.046686</td>\n",
       "      <td>-0.013637</td>\n",
       "      <td>-0.031119</td>\n",
       "      <td>-0.044977</td>\n",
       "      <td>-0.031701</td>\n",
       "      <td>-0.025210</td>\n",
       "      <td>-0.022137</td>\n",
       "      <td>0.003672</td>\n",
       "      <td>0.005361</td>\n",
       "      <td>...</td>\n",
       "      <td>-0.000110</td>\n",
       "      <td>-0.022007</td>\n",
       "      <td>-0.049213</td>\n",
       "      <td>0.010177</td>\n",
       "      <td>0.047852</td>\n",
       "      <td>0.035506</td>\n",
       "      <td>0.062716</td>\n",
       "      <td>-0.053227</td>\n",
       "      <td>0.062166</td>\n",
       "      <td>0.052981</td>\n",
       "    </tr>\n",
       "    <tr>\n",
       "      <th>doenca_autoimune</th>\n",
       "      <td>-0.017257</td>\n",
       "      <td>0.041582</td>\n",
       "      <td>-0.007424</td>\n",
       "      <td>-0.006346</td>\n",
       "      <td>0.023979</td>\n",
       "      <td>-0.017257</td>\n",
       "      <td>-0.013723</td>\n",
       "      <td>0.063632</td>\n",
       "      <td>-0.023034</td>\n",
       "      <td>0.062350</td>\n",
       "      <td>...</td>\n",
       "      <td>0.007111</td>\n",
       "      <td>-0.001553</td>\n",
       "      <td>0.099745</td>\n",
       "      <td>0.007490</td>\n",
       "      <td>0.055562</td>\n",
       "      <td>-0.043474</td>\n",
       "      <td>-0.006525</td>\n",
       "      <td>-0.021491</td>\n",
       "      <td>0.025101</td>\n",
       "      <td>0.021393</td>\n",
       "    </tr>\n",
       "    <tr>\n",
       "      <th>doenca_renal_cronica</th>\n",
       "      <td>-0.036241</td>\n",
       "      <td>-0.047961</td>\n",
       "      <td>-0.015590</td>\n",
       "      <td>-0.056112</td>\n",
       "      <td>-0.027932</td>\n",
       "      <td>-0.036241</td>\n",
       "      <td>-0.028820</td>\n",
       "      <td>-0.067225</td>\n",
       "      <td>-0.007933</td>\n",
       "      <td>-0.006215</td>\n",
       "      <td>...</td>\n",
       "      <td>0.034015</td>\n",
       "      <td>0.102866</td>\n",
       "      <td>0.028813</td>\n",
       "      <td>-0.008969</td>\n",
       "      <td>0.003623</td>\n",
       "      <td>0.054375</td>\n",
       "      <td>0.063705</td>\n",
       "      <td>0.018942</td>\n",
       "      <td>0.000622</td>\n",
       "      <td>-0.019204</td>\n",
       "    </tr>\n",
       "    <tr>\n",
       "      <th>doenca_hepatica_cronica</th>\n",
       "      <td>-0.017257</td>\n",
       "      <td>-0.014248</td>\n",
       "      <td>-0.007424</td>\n",
       "      <td>-0.006346</td>\n",
       "      <td>0.023979</td>\n",
       "      <td>-0.017257</td>\n",
       "      <td>-0.013723</td>\n",
       "      <td>0.009573</td>\n",
       "      <td>-0.023034</td>\n",
       "      <td>-0.022552</td>\n",
       "      <td>...</td>\n",
       "      <td>-0.001325</td>\n",
       "      <td>0.023378</td>\n",
       "      <td>0.007612</td>\n",
       "      <td>0.016244</td>\n",
       "      <td>-0.005150</td>\n",
       "      <td>0.035410</td>\n",
       "      <td>0.095117</td>\n",
       "      <td>-0.037388</td>\n",
       "      <td>-0.071774</td>\n",
       "      <td>-0.093040</td>\n",
       "    </tr>\n",
       "    <tr>\n",
       "      <th>doenca_neurologica</th>\n",
       "      <td>-0.003210</td>\n",
       "      <td>0.043140</td>\n",
       "      <td>0.073943</td>\n",
       "      <td>-0.023575</td>\n",
       "      <td>0.031096</td>\n",
       "      <td>-0.003210</td>\n",
       "      <td>-0.035971</td>\n",
       "      <td>-0.031587</td>\n",
       "      <td>0.005240</td>\n",
       "      <td>-0.025732</td>\n",
       "      <td>...</td>\n",
       "      <td>0.104333</td>\n",
       "      <td>-0.034609</td>\n",
       "      <td>0.016271</td>\n",
       "      <td>0.026004</td>\n",
       "      <td>0.078227</td>\n",
       "      <td>-0.034550</td>\n",
       "      <td>0.069528</td>\n",
       "      <td>-0.072888</td>\n",
       "      <td>-0.160383</td>\n",
       "      <td>-0.135202</td>\n",
       "    </tr>\n",
       "    <tr>\n",
       "      <th>paciente_chegou_com_suporte_respiratorio</th>\n",
       "      <td>0.047518</td>\n",
       "      <td>-0.057806</td>\n",
       "      <td>-0.111579</td>\n",
       "      <td>-0.003364</td>\n",
       "      <td>-0.008948</td>\n",
       "      <td>-0.020680</td>\n",
       "      <td>-0.038139</td>\n",
       "      <td>-0.024752</td>\n",
       "      <td>-0.088862</td>\n",
       "      <td>0.031225</td>\n",
       "      <td>...</td>\n",
       "      <td>0.116635</td>\n",
       "      <td>0.004788</td>\n",
       "      <td>-0.007421</td>\n",
       "      <td>0.055412</td>\n",
       "      <td>-0.075801</td>\n",
       "      <td>0.001574</td>\n",
       "      <td>0.115327</td>\n",
       "      <td>-0.057026</td>\n",
       "      <td>0.022232</td>\n",
       "      <td>0.004994</td>\n",
       "    </tr>\n",
       "    <tr>\n",
       "      <th>vmi</th>\n",
       "      <td>-0.052265</td>\n",
       "      <td>-0.255772</td>\n",
       "      <td>-0.083347</td>\n",
       "      <td>-0.123183</td>\n",
       "      <td>-0.075302</td>\n",
       "      <td>-0.020824</td>\n",
       "      <td>0.000942</td>\n",
       "      <td>-0.078047</td>\n",
       "      <td>-0.123604</td>\n",
       "      <td>-0.115835</td>\n",
       "      <td>...</td>\n",
       "      <td>0.297643</td>\n",
       "      <td>0.212290</td>\n",
       "      <td>-0.028760</td>\n",
       "      <td>-0.076031</td>\n",
       "      <td>0.177340</td>\n",
       "      <td>0.012033</td>\n",
       "      <td>0.926867</td>\n",
       "      <td>-0.123125</td>\n",
       "      <td>0.558777</td>\n",
       "      <td>0.176741</td>\n",
       "    </tr>\n",
       "    <tr>\n",
       "      <th>uti</th>\n",
       "      <td>0.004568</td>\n",
       "      <td>-0.106006</td>\n",
       "      <td>-0.109342</td>\n",
       "      <td>-0.016522</td>\n",
       "      <td>-0.035827</td>\n",
       "      <td>-0.011774</td>\n",
       "      <td>-0.027557</td>\n",
       "      <td>-0.087675</td>\n",
       "      <td>-0.209557</td>\n",
       "      <td>-0.092017</td>\n",
       "      <td>...</td>\n",
       "      <td>0.277322</td>\n",
       "      <td>0.189959</td>\n",
       "      <td>-0.019334</td>\n",
       "      <td>-0.122023</td>\n",
       "      <td>0.127535</td>\n",
       "      <td>0.068061</td>\n",
       "      <td>0.556156</td>\n",
       "      <td>0.021491</td>\n",
       "      <td>0.173973</td>\n",
       "      <td>0.128862</td>\n",
       "    </tr>\n",
       "    <tr>\n",
       "      <th>necessidade_transfusional</th>\n",
       "      <td>0.042104</td>\n",
       "      <td>-0.028869</td>\n",
       "      <td>-0.018949</td>\n",
       "      <td>-0.030430</td>\n",
       "      <td>-0.003900</td>\n",
       "      <td>-0.044049</td>\n",
       "      <td>-0.035029</td>\n",
       "      <td>-0.069976</td>\n",
       "      <td>-0.025164</td>\n",
       "      <td>-0.023347</td>\n",
       "      <td>...</td>\n",
       "      <td>0.353641</td>\n",
       "      <td>0.040881</td>\n",
       "      <td>-0.030822</td>\n",
       "      <td>-0.007107</td>\n",
       "      <td>0.003620</td>\n",
       "      <td>0.015647</td>\n",
       "      <td>0.222437</td>\n",
       "      <td>-0.094765</td>\n",
       "      <td>0.061913</td>\n",
       "      <td>0.094316</td>\n",
       "    </tr>\n",
       "    <tr>\n",
       "      <th>fenomenos_tromboembolicos_tvp</th>\n",
       "      <td>0.043763</td>\n",
       "      <td>-0.082971</td>\n",
       "      <td>-0.011380</td>\n",
       "      <td>-0.102527</td>\n",
       "      <td>0.036758</td>\n",
       "      <td>-0.026453</td>\n",
       "      <td>0.065513</td>\n",
       "      <td>-0.032678</td>\n",
       "      <td>-0.035309</td>\n",
       "      <td>-0.034570</td>\n",
       "      <td>...</td>\n",
       "      <td>0.117126</td>\n",
       "      <td>-0.043106</td>\n",
       "      <td>-0.057975</td>\n",
       "      <td>-0.013748</td>\n",
       "      <td>-0.021559</td>\n",
       "      <td>0.058209</td>\n",
       "      <td>0.079041</td>\n",
       "      <td>-0.048481</td>\n",
       "      <td>-0.033193</td>\n",
       "      <td>-0.053084</td>\n",
       "    </tr>\n",
       "    <tr>\n",
       "      <th>fenomenos_tromboembolicos_tep</th>\n",
       "      <td>-0.024469</td>\n",
       "      <td>-0.020203</td>\n",
       "      <td>-0.010526</td>\n",
       "      <td>-0.008998</td>\n",
       "      <td>-0.023264</td>\n",
       "      <td>-0.024469</td>\n",
       "      <td>-0.019459</td>\n",
       "      <td>0.013574</td>\n",
       "      <td>-0.032661</td>\n",
       "      <td>0.028215</td>\n",
       "      <td>...</td>\n",
       "      <td>0.123722</td>\n",
       "      <td>0.000606</td>\n",
       "      <td>-0.066329</td>\n",
       "      <td>-0.032768</td>\n",
       "      <td>-0.022846</td>\n",
       "      <td>0.006445</td>\n",
       "      <td>0.083582</td>\n",
       "      <td>0.052889</td>\n",
       "      <td>-0.033193</td>\n",
       "      <td>-0.053084</td>\n",
       "    </tr>\n",
       "    <tr>\n",
       "      <th>sepse</th>\n",
       "      <td>-0.015730</td>\n",
       "      <td>-0.113560</td>\n",
       "      <td>-0.037537</td>\n",
       "      <td>-0.083291</td>\n",
       "      <td>-0.058935</td>\n",
       "      <td>0.031956</td>\n",
       "      <td>-0.040002</td>\n",
       "      <td>-0.068168</td>\n",
       "      <td>-0.079240</td>\n",
       "      <td>-0.076153</td>\n",
       "      <td>...</td>\n",
       "      <td>0.351441</td>\n",
       "      <td>0.139834</td>\n",
       "      <td>-0.009746</td>\n",
       "      <td>0.044426</td>\n",
       "      <td>0.060994</td>\n",
       "      <td>0.034003</td>\n",
       "      <td>0.398106</td>\n",
       "      <td>-0.161902</td>\n",
       "      <td>0.109522</td>\n",
       "      <td>0.060534</td>\n",
       "    </tr>\n",
       "    <tr>\n",
       "      <th>disfuncao_hepatica</th>\n",
       "      <td>-0.042835</td>\n",
       "      <td>-0.058464</td>\n",
       "      <td>-0.018427</td>\n",
       "      <td>-0.015751</td>\n",
       "      <td>-0.007310</td>\n",
       "      <td>-0.042835</td>\n",
       "      <td>-0.034064</td>\n",
       "      <td>0.023762</td>\n",
       "      <td>-0.022654</td>\n",
       "      <td>-0.055979</td>\n",
       "      <td>...</td>\n",
       "      <td>0.134952</td>\n",
       "      <td>0.059519</td>\n",
       "      <td>0.012191</td>\n",
       "      <td>-0.027959</td>\n",
       "      <td>0.029775</td>\n",
       "      <td>-0.030834</td>\n",
       "      <td>0.207735</td>\n",
       "      <td>-0.035376</td>\n",
       "      <td>0.057246</td>\n",
       "      <td>0.034964</td>\n",
       "    </tr>\n",
       "    <tr>\n",
       "      <th>choque_septico</th>\n",
       "      <td>-0.026934</td>\n",
       "      <td>-0.101422</td>\n",
       "      <td>-0.040604</td>\n",
       "      <td>-0.023564</td>\n",
       "      <td>-0.038763</td>\n",
       "      <td>-0.004450</td>\n",
       "      <td>-0.047346</td>\n",
       "      <td>-0.049990</td>\n",
       "      <td>-0.090878</td>\n",
       "      <td>-0.034047</td>\n",
       "      <td>...</td>\n",
       "      <td>0.253423</td>\n",
       "      <td>0.116768</td>\n",
       "      <td>0.032641</td>\n",
       "      <td>0.009225</td>\n",
       "      <td>0.035694</td>\n",
       "      <td>0.085293</td>\n",
       "      <td>0.492389</td>\n",
       "      <td>-0.165612</td>\n",
       "      <td>0.127608</td>\n",
       "      <td>0.070248</td>\n",
       "    </tr>\n",
       "    <tr>\n",
       "      <th>disfuncao_multipla_de_orgaos</th>\n",
       "      <td>0.033769</td>\n",
       "      <td>-0.034242</td>\n",
       "      <td>-0.026491</td>\n",
       "      <td>0.024612</td>\n",
       "      <td>-0.034527</td>\n",
       "      <td>0.001986</td>\n",
       "      <td>-0.009794</td>\n",
       "      <td>0.034160</td>\n",
       "      <td>-0.032568</td>\n",
       "      <td>-0.055228</td>\n",
       "      <td>...</td>\n",
       "      <td>0.214809</td>\n",
       "      <td>0.048865</td>\n",
       "      <td>-0.010328</td>\n",
       "      <td>0.003500</td>\n",
       "      <td>0.047821</td>\n",
       "      <td>-0.007600</td>\n",
       "      <td>0.329635</td>\n",
       "      <td>-0.058728</td>\n",
       "      <td>0.019434</td>\n",
       "      <td>-0.063893</td>\n",
       "    </tr>\n",
       "    <tr>\n",
       "      <th>choque_hipovolemico</th>\n",
       "      <td>0.049325</td>\n",
       "      <td>-0.018510</td>\n",
       "      <td>-0.017892</td>\n",
       "      <td>0.022256</td>\n",
       "      <td>-0.079621</td>\n",
       "      <td>0.049325</td>\n",
       "      <td>0.022958</td>\n",
       "      <td>-0.015248</td>\n",
       "      <td>-0.055514</td>\n",
       "      <td>-0.054353</td>\n",
       "      <td>...</td>\n",
       "      <td>0.052424</td>\n",
       "      <td>0.049737</td>\n",
       "      <td>0.008196</td>\n",
       "      <td>0.085155</td>\n",
       "      <td>-0.002132</td>\n",
       "      <td>0.016675</td>\n",
       "      <td>0.222306</td>\n",
       "      <td>-0.035376</td>\n",
       "      <td>0.107309</td>\n",
       "      <td>0.091444</td>\n",
       "    </tr>\n",
       "    <tr>\n",
       "      <th>complicacao_neurologica</th>\n",
       "      <td>-0.033652</td>\n",
       "      <td>-0.117049</td>\n",
       "      <td>0.040410</td>\n",
       "      <td>-0.069162</td>\n",
       "      <td>-0.049536</td>\n",
       "      <td>-0.033652</td>\n",
       "      <td>-0.013368</td>\n",
       "      <td>-0.041784</td>\n",
       "      <td>-0.085789</td>\n",
       "      <td>-0.059670</td>\n",
       "      <td>...</td>\n",
       "      <td>0.259762</td>\n",
       "      <td>0.063802</td>\n",
       "      <td>-0.026402</td>\n",
       "      <td>-0.112615</td>\n",
       "      <td>0.068757</td>\n",
       "      <td>0.014126</td>\n",
       "      <td>0.238112</td>\n",
       "      <td>-0.128361</td>\n",
       "      <td>0.073208</td>\n",
       "      <td>0.127733</td>\n",
       "    </tr>\n",
       "    <tr>\n",
       "      <th>hemorragia</th>\n",
       "      <td>0.019905</td>\n",
       "      <td>-0.005644</td>\n",
       "      <td>-0.022753</td>\n",
       "      <td>-0.055526</td>\n",
       "      <td>-0.036532</td>\n",
       "      <td>0.056303</td>\n",
       "      <td>0.047668</td>\n",
       "      <td>-0.007479</td>\n",
       "      <td>-0.042180</td>\n",
       "      <td>-0.040207</td>\n",
       "      <td>...</td>\n",
       "      <td>0.221482</td>\n",
       "      <td>0.051928</td>\n",
       "      <td>0.020125</td>\n",
       "      <td>0.022232</td>\n",
       "      <td>0.055431</td>\n",
       "      <td>0.024948</td>\n",
       "      <td>0.291788</td>\n",
       "      <td>-0.118608</td>\n",
       "      <td>0.057145</td>\n",
       "      <td>0.026230</td>\n",
       "    </tr>\n",
       "    <tr>\n",
       "      <th>hemodialise</th>\n",
       "      <td>-0.052827</td>\n",
       "      <td>-0.165838</td>\n",
       "      <td>-0.048442</td>\n",
       "      <td>-0.041407</td>\n",
       "      <td>-0.039295</td>\n",
       "      <td>-0.012973</td>\n",
       "      <td>-0.040425</td>\n",
       "      <td>-0.028241</td>\n",
       "      <td>-0.072519</td>\n",
       "      <td>-0.068015</td>\n",
       "      <td>...</td>\n",
       "      <td>0.367335</td>\n",
       "      <td>0.148496</td>\n",
       "      <td>-0.046937</td>\n",
       "      <td>-0.061301</td>\n",
       "      <td>0.080541</td>\n",
       "      <td>0.088874</td>\n",
       "      <td>0.562510</td>\n",
       "      <td>-0.252867</td>\n",
       "      <td>0.118579</td>\n",
       "      <td>0.072373</td>\n",
       "    </tr>\n",
       "    <tr>\n",
       "      <th>tempo_vmi_total</th>\n",
       "      <td>-0.008394</td>\n",
       "      <td>-0.059114</td>\n",
       "      <td>NaN</td>\n",
       "      <td>0.028097</td>\n",
       "      <td>0.009383</td>\n",
       "      <td>-0.033034</td>\n",
       "      <td>0.012453</td>\n",
       "      <td>0.033069</td>\n",
       "      <td>-0.086387</td>\n",
       "      <td>0.039975</td>\n",
       "      <td>...</td>\n",
       "      <td>0.742014</td>\n",
       "      <td>0.094271</td>\n",
       "      <td>-0.113000</td>\n",
       "      <td>0.010152</td>\n",
       "      <td>-0.163595</td>\n",
       "      <td>0.050747</td>\n",
       "      <td>-0.112147</td>\n",
       "      <td>-0.295351</td>\n",
       "      <td>-0.027799</td>\n",
       "      <td>0.011673</td>\n",
       "    </tr>\n",
       "    <tr>\n",
       "      <th>tempo_uti_total</th>\n",
       "      <td>-0.055684</td>\n",
       "      <td>-0.180500</td>\n",
       "      <td>-0.040227</td>\n",
       "      <td>-0.120279</td>\n",
       "      <td>0.019124</td>\n",
       "      <td>-0.028217</td>\n",
       "      <td>-0.024116</td>\n",
       "      <td>-0.003618</td>\n",
       "      <td>-0.037474</td>\n",
       "      <td>0.007647</td>\n",
       "      <td>...</td>\n",
       "      <td>0.876272</td>\n",
       "      <td>0.038122</td>\n",
       "      <td>-0.108489</td>\n",
       "      <td>-0.001635</td>\n",
       "      <td>-0.045575</td>\n",
       "      <td>-0.008733</td>\n",
       "      <td>0.327890</td>\n",
       "      <td>-0.375263</td>\n",
       "      <td>0.048306</td>\n",
       "      <td>-0.018127</td>\n",
       "    </tr>\n",
       "    <tr>\n",
       "      <th>tempo_internacao</th>\n",
       "      <td>-0.001677</td>\n",
       "      <td>-0.104057</td>\n",
       "      <td>0.004102</td>\n",
       "      <td>-0.083860</td>\n",
       "      <td>0.031786</td>\n",
       "      <td>-0.034359</td>\n",
       "      <td>-0.030010</td>\n",
       "      <td>-0.027584</td>\n",
       "      <td>-0.059416</td>\n",
       "      <td>0.014603</td>\n",
       "      <td>...</td>\n",
       "      <td>1.000000</td>\n",
       "      <td>0.086408</td>\n",
       "      <td>-0.054035</td>\n",
       "      <td>-0.059666</td>\n",
       "      <td>0.012159</td>\n",
       "      <td>0.031358</td>\n",
       "      <td>0.271382</td>\n",
       "      <td>-0.378110</td>\n",
       "      <td>0.022592</td>\n",
       "      <td>-0.028234</td>\n",
       "    </tr>\n",
       "    <tr>\n",
       "      <th>tempo_referencia_internacao</th>\n",
       "      <td>0.010579</td>\n",
       "      <td>-0.059489</td>\n",
       "      <td>0.021639</td>\n",
       "      <td>-0.057912</td>\n",
       "      <td>-0.087636</td>\n",
       "      <td>0.074089</td>\n",
       "      <td>0.023973</td>\n",
       "      <td>-0.020653</td>\n",
       "      <td>-0.062953</td>\n",
       "      <td>-0.003393</td>\n",
       "      <td>...</td>\n",
       "      <td>0.086408</td>\n",
       "      <td>1.000000</td>\n",
       "      <td>-0.010659</td>\n",
       "      <td>0.028430</td>\n",
       "      <td>0.142081</td>\n",
       "      <td>0.440816</td>\n",
       "      <td>0.216391</td>\n",
       "      <td>-0.028508</td>\n",
       "      <td>0.143817</td>\n",
       "      <td>0.078687</td>\n",
       "    </tr>\n",
       "    <tr>\n",
       "      <th>latitude</th>\n",
       "      <td>-0.045387</td>\n",
       "      <td>0.084730</td>\n",
       "      <td>-0.024777</td>\n",
       "      <td>-0.021045</td>\n",
       "      <td>-0.062330</td>\n",
       "      <td>0.008667</td>\n",
       "      <td>0.048837</td>\n",
       "      <td>-0.063215</td>\n",
       "      <td>0.043385</td>\n",
       "      <td>0.041855</td>\n",
       "      <td>...</td>\n",
       "      <td>-0.054035</td>\n",
       "      <td>-0.010659</td>\n",
       "      <td>1.000000</td>\n",
       "      <td>-0.066289</td>\n",
       "      <td>0.062739</td>\n",
       "      <td>-0.015232</td>\n",
       "      <td>-0.023638</td>\n",
       "      <td>0.129936</td>\n",
       "      <td>-0.013567</td>\n",
       "      <td>-0.024461</td>\n",
       "    </tr>\n",
       "    <tr>\n",
       "      <th>longitude</th>\n",
       "      <td>0.092019</td>\n",
       "      <td>0.184805</td>\n",
       "      <td>0.025267</td>\n",
       "      <td>0.139272</td>\n",
       "      <td>0.082345</td>\n",
       "      <td>0.030278</td>\n",
       "      <td>-0.007281</td>\n",
       "      <td>0.050669</td>\n",
       "      <td>0.071661</td>\n",
       "      <td>0.083539</td>\n",
       "      <td>...</td>\n",
       "      <td>-0.059666</td>\n",
       "      <td>0.028430</td>\n",
       "      <td>-0.066289</td>\n",
       "      <td>1.000000</td>\n",
       "      <td>-0.077235</td>\n",
       "      <td>0.026004</td>\n",
       "      <td>-0.034716</td>\n",
       "      <td>-0.062513</td>\n",
       "      <td>-0.078103</td>\n",
       "      <td>-0.098506</td>\n",
       "    </tr>\n",
       "    <tr>\n",
       "      <th>idade</th>\n",
       "      <td>0.010280</td>\n",
       "      <td>-0.089624</td>\n",
       "      <td>-0.015672</td>\n",
       "      <td>-0.098044</td>\n",
       "      <td>0.004374</td>\n",
       "      <td>-0.041902</td>\n",
       "      <td>0.082205</td>\n",
       "      <td>-0.074439</td>\n",
       "      <td>-0.014540</td>\n",
       "      <td>-0.059793</td>\n",
       "      <td>...</td>\n",
       "      <td>0.012159</td>\n",
       "      <td>0.142081</td>\n",
       "      <td>0.062739</td>\n",
       "      <td>-0.077235</td>\n",
       "      <td>1.000000</td>\n",
       "      <td>0.132816</td>\n",
       "      <td>0.239478</td>\n",
       "      <td>0.116033</td>\n",
       "      <td>-0.042477</td>\n",
       "      <td>0.023764</td>\n",
       "    </tr>\n",
       "    <tr>\n",
       "      <th>tempo_sintomas_internacao</th>\n",
       "      <td>0.023486</td>\n",
       "      <td>0.022163</td>\n",
       "      <td>-0.017705</td>\n",
       "      <td>0.006345</td>\n",
       "      <td>-0.014046</td>\n",
       "      <td>0.008857</td>\n",
       "      <td>0.097295</td>\n",
       "      <td>-0.005309</td>\n",
       "      <td>-0.089042</td>\n",
       "      <td>-0.028225</td>\n",
       "      <td>...</td>\n",
       "      <td>0.031358</td>\n",
       "      <td>0.440816</td>\n",
       "      <td>-0.015232</td>\n",
       "      <td>0.026004</td>\n",
       "      <td>0.132816</td>\n",
       "      <td>1.000000</td>\n",
       "      <td>0.045665</td>\n",
       "      <td>-0.174979</td>\n",
       "      <td>0.118939</td>\n",
       "      <td>0.033258</td>\n",
       "    </tr>\n",
       "    <tr>\n",
       "      <th>desfecho</th>\n",
       "      <td>-0.054121</td>\n",
       "      <td>-0.221997</td>\n",
       "      <td>-0.045287</td>\n",
       "      <td>-0.087356</td>\n",
       "      <td>-0.064232</td>\n",
       "      <td>-0.037640</td>\n",
       "      <td>0.029539</td>\n",
       "      <td>-0.071329</td>\n",
       "      <td>-0.135044</td>\n",
       "      <td>-0.144275</td>\n",
       "      <td>...</td>\n",
       "      <td>0.271382</td>\n",
       "      <td>0.216391</td>\n",
       "      <td>-0.023638</td>\n",
       "      <td>-0.034716</td>\n",
       "      <td>0.239478</td>\n",
       "      <td>0.045665</td>\n",
       "      <td>1.000000</td>\n",
       "      <td>NaN</td>\n",
       "      <td>NaN</td>\n",
       "      <td>-0.023783</td>\n",
       "    </tr>\n",
       "    <tr>\n",
       "      <th>obito_menos24horas</th>\n",
       "      <td>0.010607</td>\n",
       "      <td>-0.084751</td>\n",
       "      <td>-0.021491</td>\n",
       "      <td>-0.100652</td>\n",
       "      <td>-0.014546</td>\n",
       "      <td>-0.065630</td>\n",
       "      <td>-0.065630</td>\n",
       "      <td>-0.037546</td>\n",
       "      <td>0.003152</td>\n",
       "      <td>-0.061737</td>\n",
       "      <td>...</td>\n",
       "      <td>-0.378110</td>\n",
       "      <td>-0.028508</td>\n",
       "      <td>0.129936</td>\n",
       "      <td>-0.062513</td>\n",
       "      <td>0.116033</td>\n",
       "      <td>-0.174979</td>\n",
       "      <td>NaN</td>\n",
       "      <td>1.000000</td>\n",
       "      <td>-0.010068</td>\n",
       "      <td>0.105769</td>\n",
       "    </tr>\n",
       "    <tr>\n",
       "      <th>obito_vm</th>\n",
       "      <td>0.009104</td>\n",
       "      <td>-0.076975</td>\n",
       "      <td>-0.173973</td>\n",
       "      <td>-0.115529</td>\n",
       "      <td>-0.021248</td>\n",
       "      <td>0.076652</td>\n",
       "      <td>-0.058444</td>\n",
       "      <td>-0.009872</td>\n",
       "      <td>0.080982</td>\n",
       "      <td>-0.070862</td>\n",
       "      <td>...</td>\n",
       "      <td>0.022592</td>\n",
       "      <td>0.143817</td>\n",
       "      <td>-0.013567</td>\n",
       "      <td>-0.078103</td>\n",
       "      <td>-0.042477</td>\n",
       "      <td>0.118939</td>\n",
       "      <td>NaN</td>\n",
       "      <td>-0.010068</td>\n",
       "      <td>1.000000</td>\n",
       "      <td>0.767140</td>\n",
       "    </tr>\n",
       "    <tr>\n",
       "      <th>obito_uti</th>\n",
       "      <td>-0.010888</td>\n",
       "      <td>-0.097331</td>\n",
       "      <td>0.021393</td>\n",
       "      <td>-0.083887</td>\n",
       "      <td>-0.030124</td>\n",
       "      <td>0.069015</td>\n",
       "      <td>-0.010888</td>\n",
       "      <td>-0.029867</td>\n",
       "      <td>0.072548</td>\n",
       "      <td>-0.099858</td>\n",
       "      <td>...</td>\n",
       "      <td>-0.028234</td>\n",
       "      <td>0.078687</td>\n",
       "      <td>-0.024461</td>\n",
       "      <td>-0.098506</td>\n",
       "      <td>0.023764</td>\n",
       "      <td>0.033258</td>\n",
       "      <td>-0.023783</td>\n",
       "      <td>0.105769</td>\n",
       "      <td>0.767140</td>\n",
       "      <td>1.000000</td>\n",
       "    </tr>\n",
       "  </tbody>\n",
       "</table>\n",
       "<p>56 rows × 56 columns</p>\n",
       "</div>"
      ],
      "text/plain": [
       "                                            coriza  tosse_seca_ou_produtiva  \\\n",
       "coriza                                    1.000000                 0.119250   \n",
       "tosse_seca_ou_produtiva                   0.119250                 1.000000   \n",
       "calafrios                                -0.024469                 0.019379   \n",
       "febre                                     0.052304                 0.388732   \n",
       "dispneia                                  0.053274                 0.280591   \n",
       "fadiga                                    0.011305                 0.065824   \n",
       "anorexia                                 -0.003210                -0.000762   \n",
       "mialgia                                   0.060293                 0.146149   \n",
       "astenia                                   0.003928                 0.071714   \n",
       "dor_de_garganta                           0.115239                 0.108382   \n",
       "congestao_nasal                           0.417024                 0.065091   \n",
       "cefaleia                                 -0.004450                 0.156965   \n",
       "diarreia                                  0.039671                 0.059753   \n",
       "nausea                                   -0.007387                -0.011285   \n",
       "vomitos                                   0.032753                -0.074187   \n",
       "anosmia                                   0.005478                 0.139949   \n",
       "ageusia                                   0.020073                 0.117357   \n",
       "tabagismo                                      NaN                      NaN   \n",
       "drogas                                   -0.017257                 0.041582   \n",
       "etilismo                                       NaN                      NaN   \n",
       "diabetes                                 -0.038441                 0.038597   \n",
       "obesidade                                 0.067754                 0.077558   \n",
       "hipertensao_arterial                     -0.013494                 0.017992   \n",
       "doenca_cardiaca                          -0.066886                -0.024312   \n",
       "doenca_pulmonar                          -0.034888                -0.032715   \n",
       "doenca_reumatologica                     -0.031701                -0.046686   \n",
       "doenca_autoimune                         -0.017257                 0.041582   \n",
       "doenca_renal_cronica                     -0.036241                -0.047961   \n",
       "doenca_hepatica_cronica                  -0.017257                -0.014248   \n",
       "doenca_neurologica                       -0.003210                 0.043140   \n",
       "paciente_chegou_com_suporte_respiratorio  0.047518                -0.057806   \n",
       "vmi                                      -0.052265                -0.255772   \n",
       "uti                                       0.004568                -0.106006   \n",
       "necessidade_transfusional                 0.042104                -0.028869   \n",
       "fenomenos_tromboembolicos_tvp             0.043763                -0.082971   \n",
       "fenomenos_tromboembolicos_tep            -0.024469                -0.020203   \n",
       "sepse                                    -0.015730                -0.113560   \n",
       "disfuncao_hepatica                       -0.042835                -0.058464   \n",
       "choque_septico                           -0.026934                -0.101422   \n",
       "disfuncao_multipla_de_orgaos              0.033769                -0.034242   \n",
       "choque_hipovolemico                       0.049325                -0.018510   \n",
       "complicacao_neurologica                  -0.033652                -0.117049   \n",
       "hemorragia                                0.019905                -0.005644   \n",
       "hemodialise                              -0.052827                -0.165838   \n",
       "tempo_vmi_total                          -0.008394                -0.059114   \n",
       "tempo_uti_total                          -0.055684                -0.180500   \n",
       "tempo_internacao                         -0.001677                -0.104057   \n",
       "tempo_referencia_internacao               0.010579                -0.059489   \n",
       "latitude                                 -0.045387                 0.084730   \n",
       "longitude                                 0.092019                 0.184805   \n",
       "idade                                     0.010280                -0.089624   \n",
       "tempo_sintomas_internacao                 0.023486                 0.022163   \n",
       "desfecho                                 -0.054121                -0.221997   \n",
       "obito_menos24horas                        0.010607                -0.084751   \n",
       "obito_vm                                  0.009104                -0.076975   \n",
       "obito_uti                                -0.010888                -0.097331   \n",
       "\n",
       "                                          calafrios     febre  dispneia  \\\n",
       "coriza                                    -0.024469  0.052304  0.053274   \n",
       "tosse_seca_ou_produtiva                    0.019379  0.388732  0.280591   \n",
       "calafrios                                  1.000000 -0.008998 -0.023264   \n",
       "febre                                     -0.008998  1.000000  0.258907   \n",
       "dispneia                                  -0.023264  0.258907  1.000000   \n",
       "fadiga                                    -0.024469  0.035407 -0.101314   \n",
       "anorexia                                   0.073943  0.038906 -0.095935   \n",
       "mialgia                                    0.051900  0.216708  0.073436   \n",
       "astenia                                    0.026498  0.060026  0.045153   \n",
       "dor_de_garganta                            0.088408  0.066621  0.041892   \n",
       "congestao_nasal                           -0.019459  0.038906 -0.000662   \n",
       "cefaleia                                   0.109319  0.121301  0.029205   \n",
       "diarreia                                   0.073621  0.103651  0.060251   \n",
       "nausea                                     0.068771 -0.010845 -0.024963   \n",
       "vomitos                                    0.068771 -0.010845 -0.024963   \n",
       "anosmia                                    0.118842  0.122977  0.034291   \n",
       "ageusia                                   -0.029141  0.066970  0.005645   \n",
       "tabagismo                                       NaN       NaN       NaN   \n",
       "drogas                                    -0.007424  0.046626  0.023979   \n",
       "etilismo                                        NaN       NaN       NaN   \n",
       "diabetes                                  -0.042843  0.033217  0.023860   \n",
       "obesidade                                  0.055485 -0.014705  0.038901   \n",
       "hipertensao_arterial                       0.031715 -0.033916  0.013873   \n",
       "doenca_cardiaca                            0.036994 -0.039260 -0.041230   \n",
       "doenca_pulmonar                            0.039239 -0.078954  0.021918   \n",
       "doenca_reumatologica                      -0.013637 -0.031119 -0.044977   \n",
       "doenca_autoimune                          -0.007424 -0.006346  0.023979   \n",
       "doenca_renal_cronica                      -0.015590 -0.056112 -0.027932   \n",
       "doenca_hepatica_cronica                   -0.007424 -0.006346  0.023979   \n",
       "doenca_neurologica                         0.073943 -0.023575  0.031096   \n",
       "paciente_chegou_com_suporte_respiratorio  -0.111579 -0.003364 -0.008948   \n",
       "vmi                                       -0.083347 -0.123183 -0.075302   \n",
       "uti                                       -0.109342 -0.016522 -0.035827   \n",
       "necessidade_transfusional                 -0.018949 -0.030430 -0.003900   \n",
       "fenomenos_tromboembolicos_tvp             -0.011380 -0.102527  0.036758   \n",
       "fenomenos_tromboembolicos_tep             -0.010526 -0.008998 -0.023264   \n",
       "sepse                                     -0.037537 -0.083291 -0.058935   \n",
       "disfuncao_hepatica                        -0.018427 -0.015751 -0.007310   \n",
       "choque_septico                            -0.040604 -0.023564 -0.038763   \n",
       "disfuncao_multipla_de_orgaos              -0.026491  0.024612 -0.034527   \n",
       "choque_hipovolemico                       -0.017892  0.022256 -0.079621   \n",
       "complicacao_neurologica                    0.040410 -0.069162 -0.049536   \n",
       "hemorragia                                -0.022753 -0.055526 -0.036532   \n",
       "hemodialise                               -0.048442 -0.041407 -0.039295   \n",
       "tempo_vmi_total                                 NaN  0.028097  0.009383   \n",
       "tempo_uti_total                           -0.040227 -0.120279  0.019124   \n",
       "tempo_internacao                           0.004102 -0.083860  0.031786   \n",
       "tempo_referencia_internacao                0.021639 -0.057912 -0.087636   \n",
       "latitude                                  -0.024777 -0.021045 -0.062330   \n",
       "longitude                                  0.025267  0.139272  0.082345   \n",
       "idade                                     -0.015672 -0.098044  0.004374   \n",
       "tempo_sintomas_internacao                 -0.017705  0.006345 -0.014046   \n",
       "desfecho                                  -0.045287 -0.087356 -0.064232   \n",
       "obito_menos24horas                        -0.021491 -0.100652 -0.014546   \n",
       "obito_vm                                  -0.173973 -0.115529 -0.021248   \n",
       "obito_uti                                  0.021393 -0.083887 -0.030124   \n",
       "\n",
       "                                            fadiga  anorexia   mialgia  \\\n",
       "coriza                                    0.011305 -0.003210  0.060293   \n",
       "tosse_seca_ou_produtiva                   0.065824 -0.000762  0.146149   \n",
       "calafrios                                -0.024469  0.073943  0.051900   \n",
       "febre                                     0.035407  0.038906  0.216708   \n",
       "dispneia                                 -0.101314 -0.095935  0.073436   \n",
       "fadiga                                    1.000000  0.122860  0.163754   \n",
       "anorexia                                  0.122860  1.000000  0.032177   \n",
       "mialgia                                   0.163754  0.032177  1.000000   \n",
       "astenia                                   0.296712  0.005240  0.154301   \n",
       "dor_de_garganta                          -0.020170 -0.025732  0.096025   \n",
       "congestao_nasal                          -0.003210 -0.035971 -0.031587   \n",
       "cefaleia                                  0.063003  0.146656  0.177453   \n",
       "diarreia                                  0.015021  0.024687  0.033896   \n",
       "nausea                                    0.072893  0.061159  0.080503   \n",
       "vomitos                                   0.032753  0.061159  0.039899   \n",
       "anosmia                                   0.076116  0.161643  0.140512   \n",
       "ageusia                                   0.137160  0.126532  0.106668   \n",
       "tabagismo                                      NaN       NaN       NaN   \n",
       "drogas                                   -0.017257 -0.013723  0.009573   \n",
       "etilismo                                       NaN       NaN       NaN   \n",
       "diabetes                                  0.041321  0.051889  0.063314   \n",
       "obesidade                                 0.032769 -0.005241  0.040521   \n",
       "hipertensao_arterial                      0.001897  0.033332 -0.014948   \n",
       "doenca_cardiaca                          -0.037296 -0.016717 -0.082626   \n",
       "doenca_pulmonar                          -0.034888 -0.051811 -0.060803   \n",
       "doenca_reumatologica                     -0.031701 -0.025210 -0.022137   \n",
       "doenca_autoimune                         -0.017257 -0.013723  0.063632   \n",
       "doenca_renal_cronica                     -0.036241 -0.028820 -0.067225   \n",
       "doenca_hepatica_cronica                  -0.017257 -0.013723  0.009573   \n",
       "doenca_neurologica                       -0.003210 -0.035971 -0.031587   \n",
       "paciente_chegou_com_suporte_respiratorio -0.020680 -0.038139 -0.024752   \n",
       "vmi                                      -0.020824  0.000942 -0.078047   \n",
       "uti                                      -0.011774 -0.027557 -0.087675   \n",
       "necessidade_transfusional                -0.044049 -0.035029 -0.069976   \n",
       "fenomenos_tromboembolicos_tvp            -0.026453  0.065513 -0.032678   \n",
       "fenomenos_tromboembolicos_tep            -0.024469 -0.019459  0.013574   \n",
       "sepse                                     0.031956 -0.040002 -0.068168   \n",
       "disfuncao_hepatica                       -0.042835 -0.034064  0.023762   \n",
       "choque_septico                           -0.004450 -0.047346 -0.049990   \n",
       "disfuncao_multipla_de_orgaos              0.001986 -0.009794  0.034160   \n",
       "choque_hipovolemico                       0.049325  0.022958 -0.015248   \n",
       "complicacao_neurologica                  -0.033652 -0.013368 -0.041784   \n",
       "hemorragia                                0.056303  0.047668 -0.007479   \n",
       "hemodialise                              -0.012973 -0.040425 -0.028241   \n",
       "tempo_vmi_total                          -0.033034  0.012453  0.033069   \n",
       "tempo_uti_total                          -0.028217 -0.024116 -0.003618   \n",
       "tempo_internacao                         -0.034359 -0.030010 -0.027584   \n",
       "tempo_referencia_internacao               0.074089  0.023973 -0.020653   \n",
       "latitude                                  0.008667  0.048837 -0.063215   \n",
       "longitude                                 0.030278 -0.007281  0.050669   \n",
       "idade                                    -0.041902  0.082205 -0.074439   \n",
       "tempo_sintomas_internacao                 0.008857  0.097295 -0.005309   \n",
       "desfecho                                 -0.037640  0.029539 -0.071329   \n",
       "obito_menos24horas                       -0.065630 -0.065630 -0.037546   \n",
       "obito_vm                                  0.076652 -0.058444 -0.009872   \n",
       "obito_uti                                 0.069015 -0.010888 -0.029867   \n",
       "\n",
       "                                           astenia  dor_de_garganta  ...  \\\n",
       "coriza                                    0.003928         0.115239  ...   \n",
       "tosse_seca_ou_produtiva                   0.071714         0.108382  ...   \n",
       "calafrios                                 0.026498         0.088408  ...   \n",
       "febre                                     0.060026         0.066621  ...   \n",
       "dispneia                                  0.045153         0.041892  ...   \n",
       "fadiga                                    0.296712        -0.020170  ...   \n",
       "anorexia                                  0.005240        -0.025732  ...   \n",
       "mialgia                                   0.154301         0.096025  ...   \n",
       "astenia                                   1.000000         0.091070  ...   \n",
       "dor_de_garganta                           0.091070         1.000000  ...   \n",
       "congestao_nasal                           0.038048         0.074413  ...   \n",
       "cefaleia                                  0.084661         0.090977  ...   \n",
       "diarreia                                 -0.034580         0.086584  ...   \n",
       "nausea                                    0.030576         0.033546  ...   \n",
       "vomitos                                  -0.063437         0.033546  ...   \n",
       "anosmia                                   0.120573         0.145930  ...   \n",
       "ageusia                                   0.115255         0.120741  ...   \n",
       "tabagismo                                      NaN              NaN  ...   \n",
       "drogas                                   -0.023034         0.062350  ...   \n",
       "etilismo                                       NaN              NaN  ...   \n",
       "diabetes                                  0.093320         0.028248  ...   \n",
       "obesidade                                -0.012211         0.022653  ...   \n",
       "hipertensao_arterial                      0.034317        -0.001465  ...   \n",
       "doenca_cardiaca                           0.049331        -0.063905  ...   \n",
       "doenca_pulmonar                          -0.039708         0.011019  ...   \n",
       "doenca_reumatologica                      0.003672         0.005361  ...   \n",
       "doenca_autoimune                         -0.023034         0.062350  ...   \n",
       "doenca_renal_cronica                     -0.007933        -0.006215  ...   \n",
       "doenca_hepatica_cronica                  -0.023034        -0.022552  ...   \n",
       "doenca_neurologica                        0.005240        -0.025732  ...   \n",
       "paciente_chegou_com_suporte_respiratorio -0.088862         0.031225  ...   \n",
       "vmi                                      -0.123604        -0.115835  ...   \n",
       "uti                                      -0.209557        -0.092017  ...   \n",
       "necessidade_transfusional                -0.025164        -0.023347  ...   \n",
       "fenomenos_tromboembolicos_tvp            -0.035309        -0.034570  ...   \n",
       "fenomenos_tromboembolicos_tep            -0.032661         0.028215  ...   \n",
       "sepse                                    -0.079240        -0.076153  ...   \n",
       "disfuncao_hepatica                       -0.022654        -0.055979  ...   \n",
       "choque_septico                           -0.090878        -0.034047  ...   \n",
       "disfuncao_multipla_de_orgaos             -0.032568        -0.055228  ...   \n",
       "choque_hipovolemico                      -0.055514        -0.054353  ...   \n",
       "complicacao_neurologica                  -0.085789        -0.059670  ...   \n",
       "hemorragia                               -0.042180        -0.040207  ...   \n",
       "hemodialise                              -0.072519        -0.068015  ...   \n",
       "tempo_vmi_total                          -0.086387         0.039975  ...   \n",
       "tempo_uti_total                          -0.037474         0.007647  ...   \n",
       "tempo_internacao                         -0.059416         0.014603  ...   \n",
       "tempo_referencia_internacao              -0.062953        -0.003393  ...   \n",
       "latitude                                  0.043385         0.041855  ...   \n",
       "longitude                                 0.071661         0.083539  ...   \n",
       "idade                                    -0.014540        -0.059793  ...   \n",
       "tempo_sintomas_internacao                -0.089042        -0.028225  ...   \n",
       "desfecho                                 -0.135044        -0.144275  ...   \n",
       "obito_menos24horas                        0.003152        -0.061737  ...   \n",
       "obito_vm                                  0.080982        -0.070862  ...   \n",
       "obito_uti                                 0.072548        -0.099858  ...   \n",
       "\n",
       "                                          tempo_internacao  \\\n",
       "coriza                                           -0.001677   \n",
       "tosse_seca_ou_produtiva                          -0.104057   \n",
       "calafrios                                         0.004102   \n",
       "febre                                            -0.083860   \n",
       "dispneia                                          0.031786   \n",
       "fadiga                                           -0.034359   \n",
       "anorexia                                         -0.030010   \n",
       "mialgia                                          -0.027584   \n",
       "astenia                                          -0.059416   \n",
       "dor_de_garganta                                   0.014603   \n",
       "congestao_nasal                                   0.052918   \n",
       "cefaleia                                         -0.085223   \n",
       "diarreia                                         -0.005446   \n",
       "nausea                                           -0.033750   \n",
       "vomitos                                          -0.021076   \n",
       "anosmia                                          -0.110924   \n",
       "ageusia                                          -0.086081   \n",
       "tabagismo                                              NaN   \n",
       "drogas                                            0.104126   \n",
       "etilismo                                               NaN   \n",
       "diabetes                                          0.006956   \n",
       "obesidade                                         0.192706   \n",
       "hipertensao_arterial                              0.056220   \n",
       "doenca_cardiaca                                   0.017055   \n",
       "doenca_pulmonar                                   0.026056   \n",
       "doenca_reumatologica                             -0.000110   \n",
       "doenca_autoimune                                  0.007111   \n",
       "doenca_renal_cronica                              0.034015   \n",
       "doenca_hepatica_cronica                          -0.001325   \n",
       "doenca_neurologica                                0.104333   \n",
       "paciente_chegou_com_suporte_respiratorio          0.116635   \n",
       "vmi                                               0.297643   \n",
       "uti                                               0.277322   \n",
       "necessidade_transfusional                         0.353641   \n",
       "fenomenos_tromboembolicos_tvp                     0.117126   \n",
       "fenomenos_tromboembolicos_tep                     0.123722   \n",
       "sepse                                             0.351441   \n",
       "disfuncao_hepatica                                0.134952   \n",
       "choque_septico                                    0.253423   \n",
       "disfuncao_multipla_de_orgaos                      0.214809   \n",
       "choque_hipovolemico                               0.052424   \n",
       "complicacao_neurologica                           0.259762   \n",
       "hemorragia                                        0.221482   \n",
       "hemodialise                                       0.367335   \n",
       "tempo_vmi_total                                   0.742014   \n",
       "tempo_uti_total                                   0.876272   \n",
       "tempo_internacao                                  1.000000   \n",
       "tempo_referencia_internacao                       0.086408   \n",
       "latitude                                         -0.054035   \n",
       "longitude                                        -0.059666   \n",
       "idade                                             0.012159   \n",
       "tempo_sintomas_internacao                         0.031358   \n",
       "desfecho                                          0.271382   \n",
       "obito_menos24horas                               -0.378110   \n",
       "obito_vm                                          0.022592   \n",
       "obito_uti                                        -0.028234   \n",
       "\n",
       "                                          tempo_referencia_internacao  \\\n",
       "coriza                                                       0.010579   \n",
       "tosse_seca_ou_produtiva                                     -0.059489   \n",
       "calafrios                                                    0.021639   \n",
       "febre                                                       -0.057912   \n",
       "dispneia                                                    -0.087636   \n",
       "fadiga                                                       0.074089   \n",
       "anorexia                                                     0.023973   \n",
       "mialgia                                                     -0.020653   \n",
       "astenia                                                     -0.062953   \n",
       "dor_de_garganta                                             -0.003393   \n",
       "congestao_nasal                                             -0.014981   \n",
       "cefaleia                                                    -0.007825   \n",
       "diarreia                                                    -0.006548   \n",
       "nausea                                                      -0.059853   \n",
       "vomitos                                                     -0.036137   \n",
       "anosmia                                                     -0.050325   \n",
       "ageusia                                                     -0.007453   \n",
       "tabagismo                                                         NaN   \n",
       "drogas                                                      -0.043106   \n",
       "etilismo                                                          NaN   \n",
       "diabetes                                                     0.015280   \n",
       "obesidade                                                    0.007398   \n",
       "hipertensao_arterial                                         0.107989   \n",
       "doenca_cardiaca                                              0.076511   \n",
       "doenca_pulmonar                                              0.028529   \n",
       "doenca_reumatologica                                        -0.022007   \n",
       "doenca_autoimune                                            -0.001553   \n",
       "doenca_renal_cronica                                         0.102866   \n",
       "doenca_hepatica_cronica                                      0.023378   \n",
       "doenca_neurologica                                          -0.034609   \n",
       "paciente_chegou_com_suporte_respiratorio                     0.004788   \n",
       "vmi                                                          0.212290   \n",
       "uti                                                          0.189959   \n",
       "necessidade_transfusional                                    0.040881   \n",
       "fenomenos_tromboembolicos_tvp                               -0.043106   \n",
       "fenomenos_tromboembolicos_tep                                0.000606   \n",
       "sepse                                                        0.139834   \n",
       "disfuncao_hepatica                                           0.059519   \n",
       "choque_septico                                               0.116768   \n",
       "disfuncao_multipla_de_orgaos                                 0.048865   \n",
       "choque_hipovolemico                                          0.049737   \n",
       "complicacao_neurologica                                      0.063802   \n",
       "hemorragia                                                   0.051928   \n",
       "hemodialise                                                  0.148496   \n",
       "tempo_vmi_total                                              0.094271   \n",
       "tempo_uti_total                                              0.038122   \n",
       "tempo_internacao                                             0.086408   \n",
       "tempo_referencia_internacao                                  1.000000   \n",
       "latitude                                                    -0.010659   \n",
       "longitude                                                    0.028430   \n",
       "idade                                                        0.142081   \n",
       "tempo_sintomas_internacao                                    0.440816   \n",
       "desfecho                                                     0.216391   \n",
       "obito_menos24horas                                          -0.028508   \n",
       "obito_vm                                                     0.143817   \n",
       "obito_uti                                                    0.078687   \n",
       "\n",
       "                                          latitude  longitude     idade  \\\n",
       "coriza                                   -0.045387   0.092019  0.010280   \n",
       "tosse_seca_ou_produtiva                   0.084730   0.184805 -0.089624   \n",
       "calafrios                                -0.024777   0.025267 -0.015672   \n",
       "febre                                    -0.021045   0.139272 -0.098044   \n",
       "dispneia                                 -0.062330   0.082345  0.004374   \n",
       "fadiga                                    0.008667   0.030278 -0.041902   \n",
       "anorexia                                  0.048837  -0.007281  0.082205   \n",
       "mialgia                                  -0.063215   0.050669 -0.074439   \n",
       "astenia                                   0.043385   0.071661 -0.014540   \n",
       "dor_de_garganta                           0.041855   0.083539 -0.059793   \n",
       "congestao_nasal                          -0.022696   0.080069 -0.047096   \n",
       "cefaleia                                  0.040939   0.045369 -0.090266   \n",
       "diarreia                                 -0.029650   0.057970 -0.008998   \n",
       "nausea                                    0.022851   0.007275  0.026140   \n",
       "vomitos                                   0.002121   0.015270 -0.018196   \n",
       "anosmia                                  -0.002692   0.088075 -0.128038   \n",
       "ageusia                                  -0.042698   0.044665 -0.038386   \n",
       "tabagismo                                      NaN        NaN       NaN   \n",
       "drogas                                   -0.025398   0.117551 -0.092845   \n",
       "etilismo                                       NaN        NaN       NaN   \n",
       "diabetes                                  0.042759   0.003480  0.161303   \n",
       "obesidade                                -0.028024  -0.008709 -0.119838   \n",
       "hipertensao_arterial                      0.019785  -0.069186  0.310981   \n",
       "doenca_cardiaca                           0.010032  -0.059100  0.118712   \n",
       "doenca_pulmonar                           0.055052   0.062315  0.083547   \n",
       "doenca_reumatologica                     -0.049213   0.010177  0.047852   \n",
       "doenca_autoimune                          0.099745   0.007490  0.055562   \n",
       "doenca_renal_cronica                      0.028813  -0.008969  0.003623   \n",
       "doenca_hepatica_cronica                   0.007612   0.016244 -0.005150   \n",
       "doenca_neurologica                        0.016271   0.026004  0.078227   \n",
       "paciente_chegou_com_suporte_respiratorio -0.007421   0.055412 -0.075801   \n",
       "vmi                                      -0.028760  -0.076031  0.177340   \n",
       "uti                                      -0.019334  -0.122023  0.127535   \n",
       "necessidade_transfusional                -0.030822  -0.007107  0.003620   \n",
       "fenomenos_tromboembolicos_tvp            -0.057975  -0.013748 -0.021559   \n",
       "fenomenos_tromboembolicos_tep            -0.066329  -0.032768 -0.022846   \n",
       "sepse                                    -0.009746   0.044426  0.060994   \n",
       "disfuncao_hepatica                        0.012191  -0.027959  0.029775   \n",
       "choque_septico                            0.032641   0.009225  0.035694   \n",
       "disfuncao_multipla_de_orgaos             -0.010328   0.003500  0.047821   \n",
       "choque_hipovolemico                       0.008196   0.085155 -0.002132   \n",
       "complicacao_neurologica                  -0.026402  -0.112615  0.068757   \n",
       "hemorragia                                0.020125   0.022232  0.055431   \n",
       "hemodialise                              -0.046937  -0.061301  0.080541   \n",
       "tempo_vmi_total                          -0.113000   0.010152 -0.163595   \n",
       "tempo_uti_total                          -0.108489  -0.001635 -0.045575   \n",
       "tempo_internacao                         -0.054035  -0.059666  0.012159   \n",
       "tempo_referencia_internacao              -0.010659   0.028430  0.142081   \n",
       "latitude                                  1.000000  -0.066289  0.062739   \n",
       "longitude                                -0.066289   1.000000 -0.077235   \n",
       "idade                                     0.062739  -0.077235  1.000000   \n",
       "tempo_sintomas_internacao                -0.015232   0.026004  0.132816   \n",
       "desfecho                                 -0.023638  -0.034716  0.239478   \n",
       "obito_menos24horas                        0.129936  -0.062513  0.116033   \n",
       "obito_vm                                 -0.013567  -0.078103 -0.042477   \n",
       "obito_uti                                -0.024461  -0.098506  0.023764   \n",
       "\n",
       "                                          tempo_sintomas_internacao  desfecho  \\\n",
       "coriza                                                     0.023486 -0.054121   \n",
       "tosse_seca_ou_produtiva                                    0.022163 -0.221997   \n",
       "calafrios                                                 -0.017705 -0.045287   \n",
       "febre                                                      0.006345 -0.087356   \n",
       "dispneia                                                  -0.014046 -0.064232   \n",
       "fadiga                                                     0.008857 -0.037640   \n",
       "anorexia                                                   0.097295  0.029539   \n",
       "mialgia                                                   -0.005309 -0.071329   \n",
       "astenia                                                   -0.089042 -0.135044   \n",
       "dor_de_garganta                                           -0.028225 -0.144275   \n",
       "congestao_nasal                                           -0.029062 -0.090426   \n",
       "cefaleia                                                   0.019501 -0.114775   \n",
       "diarreia                                                   0.042614 -0.066927   \n",
       "nausea                                                    -0.061349 -0.076145   \n",
       "vomitos                                                   -0.089107  0.001978   \n",
       "anosmia                                                   -0.014589 -0.149645   \n",
       "ageusia                                                    0.031251 -0.086060   \n",
       "tabagismo                                                       NaN       NaN   \n",
       "drogas                                                    -0.049109 -0.057346   \n",
       "etilismo                                                        NaN       NaN   \n",
       "diabetes                                                  -0.027171  0.136659   \n",
       "obesidade                                                 -0.055822  0.114025   \n",
       "hipertensao_arterial                                       0.047488  0.105900   \n",
       "doenca_cardiaca                                           -0.037292  0.098974   \n",
       "doenca_pulmonar                                            0.039314  0.004825   \n",
       "doenca_reumatologica                                       0.035506  0.062716   \n",
       "doenca_autoimune                                          -0.043474 -0.006525   \n",
       "doenca_renal_cronica                                       0.054375  0.063705   \n",
       "doenca_hepatica_cronica                                    0.035410  0.095117   \n",
       "doenca_neurologica                                        -0.034550  0.069528   \n",
       "paciente_chegou_com_suporte_respiratorio                   0.001574  0.115327   \n",
       "vmi                                                        0.012033  0.926867   \n",
       "uti                                                        0.068061  0.556156   \n",
       "necessidade_transfusional                                  0.015647  0.222437   \n",
       "fenomenos_tromboembolicos_tvp                              0.058209  0.079041   \n",
       "fenomenos_tromboembolicos_tep                              0.006445  0.083582   \n",
       "sepse                                                      0.034003  0.398106   \n",
       "disfuncao_hepatica                                        -0.030834  0.207735   \n",
       "choque_septico                                             0.085293  0.492389   \n",
       "disfuncao_multipla_de_orgaos                              -0.007600  0.329635   \n",
       "choque_hipovolemico                                        0.016675  0.222306   \n",
       "complicacao_neurologica                                    0.014126  0.238112   \n",
       "hemorragia                                                 0.024948  0.291788   \n",
       "hemodialise                                                0.088874  0.562510   \n",
       "tempo_vmi_total                                            0.050747 -0.112147   \n",
       "tempo_uti_total                                           -0.008733  0.327890   \n",
       "tempo_internacao                                           0.031358  0.271382   \n",
       "tempo_referencia_internacao                                0.440816  0.216391   \n",
       "latitude                                                  -0.015232 -0.023638   \n",
       "longitude                                                  0.026004 -0.034716   \n",
       "idade                                                      0.132816  0.239478   \n",
       "tempo_sintomas_internacao                                  1.000000  0.045665   \n",
       "desfecho                                                   0.045665  1.000000   \n",
       "obito_menos24horas                                        -0.174979       NaN   \n",
       "obito_vm                                                   0.118939       NaN   \n",
       "obito_uti                                                  0.033258 -0.023783   \n",
       "\n",
       "                                          obito_menos24horas  obito_vm  \\\n",
       "coriza                                              0.010607  0.009104   \n",
       "tosse_seca_ou_produtiva                            -0.084751 -0.076975   \n",
       "calafrios                                          -0.021491 -0.173973   \n",
       "febre                                              -0.100652 -0.115529   \n",
       "dispneia                                           -0.014546 -0.021248   \n",
       "fadiga                                             -0.065630  0.076652   \n",
       "anorexia                                           -0.065630 -0.058444   \n",
       "mialgia                                            -0.037546 -0.009872   \n",
       "astenia                                             0.003152  0.080982   \n",
       "dor_de_garganta                                    -0.061737 -0.070862   \n",
       "congestao_nasal                                    -0.037388  0.043667   \n",
       "cefaleia                                           -0.043893 -0.028754   \n",
       "diarreia                                           -0.094765 -0.035621   \n",
       "nausea                                              0.052889 -0.033193   \n",
       "vomitos                                             0.010607  0.009104   \n",
       "anosmia                                            -0.079602 -0.020468   \n",
       "ageusia                                            -0.069338 -0.047472   \n",
       "tabagismo                                                NaN       NaN   \n",
       "drogas                                                   NaN       NaN   \n",
       "etilismo                                                 NaN       NaN   \n",
       "diabetes                                           -0.052268  0.075426   \n",
       "obesidade                                          -0.215114  0.023515   \n",
       "hipertensao_arterial                               -0.075549  0.013687   \n",
       "doenca_cardiaca                                     0.076403 -0.077758   \n",
       "doenca_pulmonar                                    -0.030821 -0.050588   \n",
       "doenca_reumatologica                               -0.053227  0.062166   \n",
       "doenca_autoimune                                   -0.021491  0.025101   \n",
       "doenca_renal_cronica                                0.018942  0.000622   \n",
       "doenca_hepatica_cronica                            -0.037388 -0.071774   \n",
       "doenca_neurologica                                 -0.072888 -0.160383   \n",
       "paciente_chegou_com_suporte_respiratorio           -0.057026  0.022232   \n",
       "vmi                                                -0.123125  0.558777   \n",
       "uti                                                 0.021491  0.173973   \n",
       "necessidade_transfusional                          -0.094765  0.061913   \n",
       "fenomenos_tromboembolicos_tvp                      -0.048481 -0.033193   \n",
       "fenomenos_tromboembolicos_tep                       0.052889 -0.033193   \n",
       "sepse                                              -0.161902  0.109522   \n",
       "disfuncao_hepatica                                 -0.035376  0.057246   \n",
       "choque_septico                                     -0.165612  0.127608   \n",
       "disfuncao_multipla_de_orgaos                       -0.058728  0.019434   \n",
       "choque_hipovolemico                                -0.035376  0.107309   \n",
       "complicacao_neurologica                            -0.128361  0.073208   \n",
       "hemorragia                                         -0.118608  0.057145   \n",
       "hemodialise                                        -0.252867  0.118579   \n",
       "tempo_vmi_total                                    -0.295351 -0.027799   \n",
       "tempo_uti_total                                    -0.375263  0.048306   \n",
       "tempo_internacao                                   -0.378110  0.022592   \n",
       "tempo_referencia_internacao                        -0.028508  0.143817   \n",
       "latitude                                            0.129936 -0.013567   \n",
       "longitude                                          -0.062513 -0.078103   \n",
       "idade                                               0.116033 -0.042477   \n",
       "tempo_sintomas_internacao                          -0.174979  0.118939   \n",
       "desfecho                                                 NaN       NaN   \n",
       "obito_menos24horas                                  1.000000 -0.010068   \n",
       "obito_vm                                           -0.010068  1.000000   \n",
       "obito_uti                                           0.105769  0.767140   \n",
       "\n",
       "                                          obito_uti  \n",
       "coriza                                    -0.010888  \n",
       "tosse_seca_ou_produtiva                   -0.097331  \n",
       "calafrios                                  0.021393  \n",
       "febre                                     -0.083887  \n",
       "dispneia                                  -0.030124  \n",
       "fadiga                                     0.069015  \n",
       "anorexia                                  -0.010888  \n",
       "mialgia                                   -0.029867  \n",
       "astenia                                    0.072548  \n",
       "dor_de_garganta                           -0.099858  \n",
       "congestao_nasal                            0.043068  \n",
       "cefaleia                                  -0.010224  \n",
       "diarreia                                   0.039298  \n",
       "nausea                                    -0.053084  \n",
       "vomitos                                   -0.010888  \n",
       "anosmia                                   -0.041204  \n",
       "ageusia                                   -0.065952  \n",
       "tabagismo                                       NaN  \n",
       "drogas                                          NaN  \n",
       "etilismo                                        NaN  \n",
       "diabetes                                   0.050911  \n",
       "obesidade                                 -0.010697  \n",
       "hipertensao_arterial                       0.014173  \n",
       "doenca_cardiaca                            0.018084  \n",
       "doenca_pulmonar                           -0.085741  \n",
       "doenca_reumatologica                       0.052981  \n",
       "doenca_autoimune                           0.021393  \n",
       "doenca_renal_cronica                      -0.019204  \n",
       "doenca_hepatica_cronica                   -0.093040  \n",
       "doenca_neurologica                        -0.135202  \n",
       "paciente_chegou_com_suporte_respiratorio   0.004994  \n",
       "vmi                                        0.176741  \n",
       "uti                                        0.128862  \n",
       "necessidade_transfusional                  0.094316  \n",
       "fenomenos_tromboembolicos_tvp             -0.053084  \n",
       "fenomenos_tromboembolicos_tep             -0.053084  \n",
       "sepse                                      0.060534  \n",
       "disfuncao_hepatica                         0.034964  \n",
       "choque_septico                             0.070248  \n",
       "disfuncao_multipla_de_orgaos              -0.063893  \n",
       "choque_hipovolemico                        0.091444  \n",
       "complicacao_neurologica                    0.127733  \n",
       "hemorragia                                 0.026230  \n",
       "hemodialise                                0.072373  \n",
       "tempo_vmi_total                            0.011673  \n",
       "tempo_uti_total                           -0.018127  \n",
       "tempo_internacao                          -0.028234  \n",
       "tempo_referencia_internacao                0.078687  \n",
       "latitude                                  -0.024461  \n",
       "longitude                                 -0.098506  \n",
       "idade                                      0.023764  \n",
       "tempo_sintomas_internacao                  0.033258  \n",
       "desfecho                                  -0.023783  \n",
       "obito_menos24horas                         0.105769  \n",
       "obito_vm                                   0.767140  \n",
       "obito_uti                                  1.000000  \n",
       "\n",
       "[56 rows x 56 columns]"
      ]
     },
     "execution_count": 20,
     "metadata": {},
     "output_type": "execute_result"
    }
   ],
   "source": [
    "cor_mtx"
   ]
  },
  {
   "cell_type": "code",
   "execution_count": 13,
   "id": "d97e6ad9",
   "metadata": {
    "scrolled": false
   },
   "outputs": [
    {
     "data": {
      "text/plain": [
       "<bound method _AxesBase.set_xlabel of <AxesSubplot:>>"
      ]
     },
     "execution_count": 13,
     "metadata": {},
     "output_type": "execute_result"
    },
    {
     "data": {
      "image/png": "[encoded data removed]",
      "text/plain": [
       "<Figure size 864x864 with 2 Axes>"
      ]
     },
     "metadata": {
      "needs_background": "light"
     },
     "output_type": "display_data"
    }
   ],
   "source": [
    "plt.figure(figsize = (12,12))\n",
    "chart = sns.heatmap(cor_mtx, xticklabels=cor_mtx.index, yticklabels=cor_mtx.index, vmin=-1, vmax=1)\n",
    "chart.set_xlabel"
   ]
  },
  {
   "cell_type": "markdown",
   "id": "501c838b",
   "metadata": {},
   "source": [
    "A figura apresenta um gráfico heatmap da matriz de correlação. Quanto mais claro e escuro maiores são as corelações (positiva e negativa). Pode-se observar regiões de forte, média e fraca correlação. No entanto, para facilitar a interpretação das correlações foi gerado o gráfico abaixo onde foram ordenadas as correlações. Além disso, o gráfico do heatmap apresenta uma inconsistencia causada por dados nulos, o que gerrou pixels brancos puros, o que não representa uma forte correlação positiva."
   ]
  },
  {
   "cell_type": "code",
   "execution_count": 14,
   "id": "1706dc82",
   "metadata": {},
   "outputs": [
    {
     "data": {
      "text/plain": [
       "<AxesSubplot:>"
      ]
     },
     "execution_count": 14,
     "metadata": {},
     "output_type": "execute_result"
    },
    {
     "data": {
      "image/png": "[encoded data removed]",
      "text/plain": [
       "<Figure size 1008x360 with 1 Axes>"
      ]
     },
     "metadata": {
      "needs_background": "light"
     },
     "output_type": "display_data"
    }
   ],
   "source": [
    "plt.figure(figsize = (14,5))\n",
    "cor_mtx.desfecho.sort_values(ascending=False).plot.bar()"
   ]
  },
  {
   "cell_type": "markdown",
   "id": "381e69d8",
   "metadata": {},
   "source": [
    "Pode-se observar que os desfechos do tipo óbito estão fortemente correlacionados com as variáveis vmi, e moderadamente correlacionadas com uti, hemodialise e choque_septico. A partir daí a correlação tende a diminuir."
   ]
  },
  {
   "cell_type": "markdown",
   "id": "716f4abc",
   "metadata": {},
   "source": [
    "A seguir foram selecionadas no dataset as variáveis de maior amplitude de variação (Tempo e idade) para analisar o comportamento da distribuição destes dados. Nos interessamos em relacionar as distribuições com o desfecho (óbito e alta)."
   ]
  },
  {
   "cell_type": "code",
   "execution_count": 27,
   "id": "c6bc8268",
   "metadata": {},
   "outputs": [
    {
     "data": {
      "text/plain": [
       "<AxesSubplot:xlabel='tempo_sintomas_internacao', ylabel='Count'>"
      ]
     },
     "execution_count": 27,
     "metadata": {},
     "output_type": "execute_result"
    },
    {
     "data": {
      "image/png": "[encoded data removed]",
      "text/plain": [
       "<Figure size 720x360 with 1 Axes>"
      ]
     },
     "metadata": {
      "needs_background": "light"
     },
     "output_type": "display_data"
    }
   ],
   "source": [
    "plt.figure(figsize = (10, 5))\n",
    "sns.histplot(data=data.dropna(subset=[\"tempo_sintomas_internacao\"]), x = \"tempo_sintomas_internacao\", element=\"step\", hue=\"desfecho\")"
   ]
  },
  {
   "cell_type": "markdown",
   "id": "bcb8560a",
   "metadata": {},
   "source": [
    "Observa-se que a maior concentração dos dados se encontra entre 7 e 12 dias. Nesse intervalo as altas superam os óbitos. As maiores frequências de alta ocorrem em 7 e 14 dias. É raro casos de internação após os sintomas com 1 e 25 dias."
   ]
  },
  {
   "cell_type": "code",
   "execution_count": 23,
   "id": "3892dab0",
   "metadata": {},
   "outputs": [
    {
     "data": {
      "image/png": "[encoded data removed]",
      "text/plain": [
       "<Figure size 720x360 with 1 Axes>"
      ]
     },
     "metadata": {
      "needs_background": "light"
     },
     "output_type": "display_data"
    }
   ],
   "source": [
    "plt.figure(figsize = (10, 5))\n",
    "chart = sns.histplot(data=data.dropna(subset=[\"tempo_referencia_internacao\"]), x = \"tempo_referencia_internacao\", element=\"step\", hue=\"desfecho\")"
   ]
  },
  {
   "cell_type": "markdown",
   "id": "f1908d4b",
   "metadata": {},
   "source": [
    "Observa-se que a maior concentração dos dados se encontra entre 0 e 5 dias. Nesse intervalo as altas superam os óbitos. As maiores frequências de alta e óbito ocorrem neste intervalo. Após a entrada dos pacientes os casos de internação começa a diminuir após o quinto dia."
   ]
  },
  {
   "cell_type": "code",
   "execution_count": 22,
   "id": "18e7ccdb",
   "metadata": {},
   "outputs": [
    {
     "data": {
      "text/plain": [
       "<AxesSubplot:xlabel='tempo_internacao', ylabel='Count'>"
      ]
     },
     "execution_count": 22,
     "metadata": {},
     "output_type": "execute_result"
    },
    {
     "data": {
      "image/png": "[encoded data removed]",
      "text/plain": [
       "<Figure size 720x360 with 1 Axes>"
      ]
     },
     "metadata": {
      "needs_background": "light"
     },
     "output_type": "display_data"
    }
   ],
   "source": [
    "plt.figure(figsize = (10, 5))\n",
    "sns.histplot(data=data.dropna(subset=[\"tempo_internacao\"]), x = \"tempo_internacao\", element=\"step\", hue=\"desfecho\")"
   ]
  },
  {
   "cell_type": "markdown",
   "id": "47f528eb",
   "metadata": {},
   "source": [
    "Observa-se que a maior concentração dos dados se encontra entre 0 e 7 dias. Nesse intervalo as altas superam os óbitos. As maiores frequências de alta e óbito ocorrem neste intervalo. Os casos internação começam a diminuir após o sétimo dia. É notável uma inverção entre óbitos e alta após esse período."
   ]
  },
  {
   "cell_type": "code",
   "execution_count": 22,
   "id": "963ee298",
   "metadata": {
    "scrolled": false
   },
   "outputs": [
    {
     "data": {
      "text/plain": [
       "<AxesSubplot:xlabel='tempo_vmi_total', ylabel='Count'>"
      ]
     },
     "execution_count": 22,
     "metadata": {},
     "output_type": "execute_result"
    },
    {
     "data": {
      "image/png": "[encoded data removed]",
      "text/plain": [
       "<Figure size 720x360 with 1 Axes>"
      ]
     },
     "metadata": {
      "needs_background": "light"
     },
     "output_type": "display_data"
    }
   ],
   "source": [
    "plt.figure(figsize = (10, 5))\n",
    "sns.histplot(data=data.dropna(subset=[\"tempo_vmi_total\"]), x = \"tempo_vmi_total\", element=\"step\", hue=\"desfecho\")"
   ]
  },
  {
   "cell_type": "markdown",
   "id": "fced1670",
   "metadata": {},
   "source": [
    "Observa-se que a maior concentração dos dados se encontra entre 0 e 13 dias. Nesse intervalo os óbitos superam as altas. As maiores frequências de óbito ocorrem neste intervalo. Os casos de vmi começam a diminuir após o décimo terceiro dia. É notório a grande maioria de óbitos em relação aos casos de alta. Observa-se um caso discrepante de óbito com 40 dias de VMI."
   ]
  },
  {
   "cell_type": "code",
   "execution_count": 26,
   "id": "9363ba4e",
   "metadata": {},
   "outputs": [
    {
     "data": {
      "text/plain": [
       "<AxesSubplot:xlabel='tempo_uti_total', ylabel='Count'>"
      ]
     },
     "execution_count": 26,
     "metadata": {},
     "output_type": "execute_result"
    },
    {
     "data": {
      "image/png": "[encoded data removed]",
      "text/plain": [
       "<Figure size 720x360 with 1 Axes>"
      ]
     },
     "metadata": {
      "needs_background": "light"
     },
     "output_type": "display_data"
    }
   ],
   "source": [
    "plt.figure(figsize = (10, 5))\n",
    "sns.histplot(data=data.dropna(subset=[\"tempo_uti_total\"]), x = \"tempo_uti_total\", element=\"step\", hue=\"desfecho\")"
   ]
  },
  {
   "cell_type": "markdown",
   "id": "79d56a18",
   "metadata": {},
   "source": [
    "Observa-se que a maior concentração dos dados se encontra entre 0 e 13 dias. No começo deste intervalo (0 e 4 dias) as altas superam os óbitos. Após 4 dias os óbitos superam as altas. As maiores frequências de óbito e alta ocorrem neste intervalo. Os casos de uti começam a diminuir após o décimo terceiro dia. Observam-se dois cuiosos casos de alta nos dias 31 e 32."
   ]
  },
  {
   "cell_type": "markdown",
   "id": "8b15bfc5",
   "metadata": {},
   "source": [
    "\n"
   ]
  },
  {
   "cell_type": "code",
   "execution_count": 28,
   "id": "84abb26a",
   "metadata": {},
   "outputs": [
    {
     "data": {
      "image/png": "[encoded data removed]",
      "text/plain": [
       "<Figure size 720x360 with 1 Axes>"
      ]
     },
     "metadata": {
      "needs_background": "light"
     },
     "output_type": "display_data"
    }
   ],
   "source": [
    "plt.figure(figsize = (10, 5))\n",
    "chart = sns.histplot(data=data, x = \"idade\", hue=\"desfecho\", element=\"step\", kde=True )"
   ]
  },
  {
   "cell_type": "markdown",
   "id": "46facb37",
   "metadata": {},
   "source": [
    "Observa-se que a distribuição dos casos de óbito é deslocada para a direita em relação a distribuiçào dos casos de alta, ou seja, a população idosa é mais sucetível a casos de óbito. Os casos de alta são sempre superiores aos casos de óbito, salvo após 80 anos onde se observa uma inversão."
   ]
  },
  {
   "cell_type": "code",
   "execution_count": null,
   "id": "4635f386",
   "metadata": {},
   "outputs": [],
   "source": []
  },
  {
   "cell_type": "markdown",
   "id": "9a1e8bfa",
   "metadata": {},
   "source": [
    "A seguir foram selecionadas no dataset as variáveis correspondentes a caracteristicas socioeconomicas dos pacientes. Utilizou-se um gráfico de barras para perceber a proporção entre as variáveis e assim a relevância das mesmas em relação aos casos de óbito e alta."
   ]
  },
  {
   "cell_type": "code",
   "execution_count": 58,
   "id": "0c3c9a8e",
   "metadata": {
    "scrolled": false
   },
   "outputs": [
    {
     "data": {
      "image/png": "[encoded data removed]",
      "text/plain": [
       "<Figure size 360x2160 with 1 Axes>"
      ]
     },
     "metadata": {
      "needs_background": "light"
     },
     "output_type": "display_data"
    }
   ],
   "source": [
    "plt.figure(figsize = (5,30))\n",
    "chart= sns.countplot(data=data, y = \"bairro\", hue=\"desfecho\")\n",
    "plt.show()"
   ]
  },
  {
   "cell_type": "markdown",
   "id": "90e3c23f",
   "metadata": {},
   "source": [
    "O gráfico a cima apresenta a quantidade dos casos de óbito e alta em relação aos bairros. O bairo Mondubim é o que apresenta mais óbitos. Os bairros que apresentam mais altas são Vicente Pizon, Granja Portugal, Messejana e Genibaú."
   ]
  },
  {
   "cell_type": "code",
   "execution_count": 33,
   "id": "2e9bea0d",
   "metadata": {},
   "outputs": [
    {
     "data": {
      "image/png": "[encoded data removed]",
      "text/plain": [
       "<Figure size 720x720 with 1 Axes>"
      ]
     },
     "metadata": {
      "needs_background": "light"
     },
     "output_type": "display_data"
    }
   ],
   "source": [
    "plt.figure(figsize = (10, 10))\n",
    "chart= sns.countplot(data=data, x = \"cor_autorreferida\", hue=\"desfecho\")\n",
    "#chart.set_xticklabels(chart.get_xticklabels(), rotation=90, horizontalalignment='right')\n",
    "total= len(data.dropna(subset=[\"cor_autorreferida\"]))\n",
    "for p in chart.patches:\n",
    "    chart.annotate(f'\\n{int(round(p.get_height()/total,2)*100)}%', (p.get_x()+0.2, p.get_height()+3.5), ha='center', va='top', color='White', size=16)\n",
    "\n",
    "plt.show()"
   ]
  },
  {
   "cell_type": "markdown",
   "id": "66766e51",
   "metadata": {},
   "source": [
    "Os pardos apresentam a maioria dos casos de óbito e alta. Os pretos apresentam os menores casos. Os casos de alta superam o de óbito."
   ]
  },
  {
   "cell_type": "code",
   "execution_count": 30,
   "id": "664d89fd",
   "metadata": {},
   "outputs": [
    {
     "data": {
      "image/png": "[encoded data removed]",
      "text/plain": [
       "<Figure size 720x720 with 1 Axes>"
      ]
     },
     "metadata": {
      "needs_background": "light"
     },
     "output_type": "display_data"
    }
   ],
   "source": [
    "plt.figure(figsize = (10, 10))\n",
    "chart= sns.countplot(data=data, x = \"sexo\", hue=\"desfecho\")\n",
    "#chart.set_xticklabels(chart.get_xticklabels(), rotation=90, horizontalalignment='right')\n",
    "total= len(data.dropna(subset=[\"sexo\"]))\n",
    "for p in chart.patches:\n",
    "    chart.annotate(f'\\n{int(round(p.get_height()/total,2)*100)}%', (p.get_x()+0.2, p.get_height()+3.5), ha='center', va='top', color='white', size=16)\n",
    "\n",
    "plt.show()"
   ]
  },
  {
   "cell_type": "markdown",
   "id": "5ca63427",
   "metadata": {},
   "source": [
    "Os homens apresentam mais casos que as mulheres. Os casos de alta superam os de óbito."
   ]
  },
  {
   "cell_type": "code",
   "execution_count": 59,
   "id": "bb6e3465",
   "metadata": {},
   "outputs": [
    {
     "data": {
      "image/png": "[encoded data removed]",
      "text/plain": [
       "<Figure size 720x720 with 1 Axes>"
      ]
     },
     "metadata": {
      "needs_background": "light"
     },
     "output_type": "display_data"
    }
   ],
   "source": [
    "plt.figure(figsize = (10, 10))\n",
    "chart= sns.countplot(data=data, x = \"escolaridade\", hue=\"desfecho\")\n",
    "chart.set_xticklabels(chart.get_xticklabels(), rotation=45, horizontalalignment='right')\n",
    "chart.set_ylim(0,155)\n",
    "total= len(data.dropna(subset=[\"escolaridade\"]))\n",
    "for p in chart.patches:\n",
    "    chart.annotate(f'\\n{int(round(p.get_height()/total,2)*100)}%', (p.get_x()+0.2, p.get_height()+8), ha='center', va='top', color='black', size=12)\n",
    "\n",
    "plt.show()"
   ]
  },
  {
   "cell_type": "markdown",
   "id": "c2ab334a",
   "metadata": {},
   "source": [
    "O ensino fundamental incompleto apresenta praticamente a mesma proporção de óbito e alta. Os casos de alta superam o óbito. O ensino superior apresenta menos casos de covid do que o ensino fundamental incompleto."
   ]
  },
  {
   "cell_type": "markdown",
   "id": "fa317d3c",
   "metadata": {},
   "source": [
    "A seguir foram selecionadas no dataset as variáveis correspondentes a casos de óbito em situações de UTI, VMI e em menos de 24 horas. Utilizou-se um gráfico de barras para perceber a proporção entre as variáveis e assim a relevância das mesmas em relação aos casos de óbito e alta."
   ]
  },
  {
   "cell_type": "code",
   "execution_count": 63,
   "id": "362e655e",
   "metadata": {},
   "outputs": [
    {
     "data": {
      "image/png": "[encoded data removed]",
      "text/plain": [
       "<Figure size 360x360 with 1 Axes>"
      ]
     },
     "metadata": {
      "needs_background": "light"
     },
     "output_type": "display_data"
    }
   ],
   "source": [
    "plt.figure(figsize = (5, 5))\n",
    "chart= sns.countplot(data=data.dropna(subset=[\"obito_uti\"]), x = \"obito_uti\")\n",
    "chart.set_xticklabels([\"Não\", \"Sim\"], rotation=0, horizontalalignment='right')\n",
    "total = len(data.dropna(subset=[\"obito_uti\"]))\n",
    "for p in chart.patches:\n",
    "    chart.annotate(f'\\n{round(p.get_height()/total,3)*100}%', (p.get_x()+0.4, p.get_height()+3.5), ha='center', va='top', color='white', size=16)\n",
    "plt.show()"
   ]
  },
  {
   "cell_type": "markdown",
   "id": "2e4a60a9",
   "metadata": {},
   "source": [
    "Observa-se 90% dos casos de obito em UTI. No entanto essa variável contém mais de 50% de entradas nulas."
   ]
  },
  {
   "cell_type": "code",
   "execution_count": 64,
   "id": "18577876",
   "metadata": {},
   "outputs": [
    {
     "data": {
      "image/png": "[encoded data removed]",
      "text/plain": [
       "<Figure size 360x360 with 1 Axes>"
      ]
     },
     "metadata": {
      "needs_background": "light"
     },
     "output_type": "display_data"
    }
   ],
   "source": [
    "plt.figure(figsize = (5, 5))\n",
    "chart= sns.countplot(data=data.dropna(subset=[\"obito_vm\"]), x = \"obito_vm\")\n",
    "chart.set_xticklabels([\"Não\", \"Sim\"], rotation=0, horizontalalignment='right')\n",
    "\n",
    "total= len(data.dropna(subset=[\"obito_vm\"]))\n",
    "for p in chart.patches:\n",
    "    chart.annotate(f'\\n{round(p.get_height()/total,3)*100}%', (p.get_x()+0.4, p.get_height()+3.5), ha='center', va='top', color='white', size=16)\n",
    "\n",
    "plt.show()"
   ]
  },
  {
   "cell_type": "markdown",
   "id": "649fbc8d",
   "metadata": {},
   "source": [
    "Observa-se aproximadamente 90% dos casos de obito com VM. No entanto essa variável contém mais de 50% de entradas nulas."
   ]
  },
  {
   "cell_type": "code",
   "execution_count": 65,
   "id": "ade2a5f0",
   "metadata": {},
   "outputs": [
    {
     "data": {
      "image/png": "[encoded data removed]",
      "text/plain": [
       "<Figure size 360x360 with 1 Axes>"
      ]
     },
     "metadata": {
      "needs_background": "light"
     },
     "output_type": "display_data"
    }
   ],
   "source": [
    "plt.figure(figsize = (5, 5))\n",
    "chart= sns.countplot(data=data.dropna(subset=[\"obito_menos24horas\"]), x = \"obito_menos24horas\")\n",
    "chart.set_xticklabels([\"Não\", \"Sim\"], rotation=0, horizontalalignment='right')\n",
    "\n",
    "total= len(data.dropna(subset=[\"obito_menos24horas\"]))\n",
    "for p in chart.patches:\n",
    "    chart.annotate(f'\\n{round(p.get_height()/total,3)*100}%', (p.get_x()+0.4, p.get_height()+3.5), ha='center', va='top', color='white', size=16)\n",
    "\n",
    "\n",
    "plt.show()"
   ]
  },
  {
   "cell_type": "markdown",
   "id": "7e1e2802",
   "metadata": {},
   "source": [
    "Observa-se 90% dos casos de alta em menos de 24 horas. No entanto essa variável contém mais de 50% de entradas nulas."
   ]
  },
  {
   "cell_type": "markdown",
   "id": "796e413f",
   "metadata": {},
   "source": [
    "A seguir utilizou-se um gráfico de Pareto no intuito de destacar a relevancia das variáveis em relação aos casos de óbito e alta."
   ]
  },
  {
   "cell_type": "code",
   "execution_count": 39,
   "id": "29c72441",
   "metadata": {},
   "outputs": [
    {
     "data": {
      "image/png": "[encoded data removed]",
      "text/plain": [
       "<Figure size 1152x360 with 1 Axes>"
      ]
     },
     "metadata": {
      "needs_background": "light"
     },
     "output_type": "display_data"
    }
   ],
   "source": [
    "columns = []\n",
    "values = []\n",
    "data_obt = data.loc[data['desfecho'] == \"obito\"]\n",
    "for i in data_obt.columns[1:44]:\n",
    "    try:\n",
    "        values.append(data_obt[i].value_counts()[True])\n",
    "        columns.append(i)\n",
    "    except:\n",
    "        values.append(0)\n",
    "        columns.append(i)\n",
    "df = pd.DataFrame(list(zip(columns, values)),\n",
    "               columns =['columns', 'values'])\n",
    "df.sort_values(by='values',ascending=False, inplace=True)\n",
    "plt.figure(figsize = (16,5))\n",
    "chart = sns.barplot(data=df, x=\"columns\", y=\"values\")\n",
    "chart.set_xticklabels(chart.get_xticklabels(), rotation=60, horizontalalignment='right')\n",
    "chart.set_title(\"Frequência das colunas relacionadas aos casos de óbito\".title())\n",
    "plt.show()"
   ]
  },
  {
   "cell_type": "markdown",
   "id": "ac6c7109",
   "metadata": {},
   "source": [
    "Os primeiros casos são mais frequentes em casos de óbito. Observa-se que após a variável hipertensão_arterial há uma queda na frequência. As variáveis UTI e VMI estão fortemente correlacionadas com casos de óbitos, assim como demonstrou a matriz de correlação."
   ]
  },
  {
   "cell_type": "code",
   "execution_count": 38,
   "id": "50114f86",
   "metadata": {},
   "outputs": [
    {
     "data": {
      "image/png": "[encoded data removed]",
      "text/plain": [
       "<Figure size 1152x360 with 1 Axes>"
      ]
     },
     "metadata": {
      "needs_background": "light"
     },
     "output_type": "display_data"
    }
   ],
   "source": [
    "columns = []\n",
    "values = []\n",
    "data_alt = data.loc[data['desfecho'] == \"alta\"]\n",
    "for i in data_alt.columns[1:44]:\n",
    "    try:\n",
    "        values.append(data_alt[i].value_counts()[True])\n",
    "        columns.append(i)\n",
    "    except:\n",
    "        values.append(0)\n",
    "        columns.append(i)\n",
    "df = pd.DataFrame(list(zip(columns, values)),\n",
    "               columns =['columns', 'values'])\n",
    "df.sort_values(by='values',ascending=False, inplace=True)\n",
    "plt.figure(figsize = (16,5))\n",
    "chart = sns.barplot(data=df, x=\"columns\", y=\"values\")\n",
    "chart.set_xticklabels(chart.get_xticklabels(), rotation=60, horizontalalignment='right')\n",
    "chart.set_title(\"Frequência das colunas relacionadas aos casos de alta\".title())\n",
    "plt.show()"
   ]
  },
  {
   "cell_type": "markdown",
   "id": "d92aabb1",
   "metadata": {},
   "source": [
    "Os primeiros casos são mais frequentes em casos de altas. Observa-se que após a variável febre há uma queda na frequência. As variáveis UTI e VMI são menos frequentes em casos de alta."
   ]
  },
  {
   "cell_type": "code",
   "execution_count": null,
   "id": "b3c8a05b",
   "metadata": {},
   "outputs": [],
   "source": []
  },
  {
   "cell_type": "markdown",
   "id": "693689f5",
   "metadata": {},
   "source": [
    "# 3. Análise Preditiva e Prescritiva dos Dados"
   ]
  },
  {
   "cell_type": "markdown",
   "id": "997de426",
   "metadata": {},
   "source": [
    "Esta etapa consiste na análise preditiva e prescritiva dos dados a partir da aplicação de modelos preditivos que estão em destaque atualmente no campo da ciência de dados: Regressão Logística, Random Forest e Rede Neural. O objetivo dessa etapa é treinar, avaliar e comparar um conjunto de modelos preditivos. Em seguida é realizada uma análise relativa à relevância das variáveis em relação ao desempenho dos modelos. "
   ]
  },
  {
   "cell_type": "markdown",
   "id": "1928ebb3",
   "metadata": {},
   "source": [
    "Para as funções de split foi utilizado o random_state=42 para que os resultados reproduzidos posteriormente em outros sistemas."
   ]
  },
  {
   "cell_type": "markdown",
   "id": "19a499e8",
   "metadata": {},
   "source": [
    "#### Nesse split dos dados foram selecionadas as variáveis das colunas 1 a 43 correspondente aos sintômas, Histórico pessoal, Comorbidades, Complicações dentre algumas outras, como UTI, VMI e Idade."
   ]
  },
  {
   "cell_type": "code",
   "execution_count": 159,
   "id": "929ed268",
   "metadata": {
    "scrolled": true
   },
   "outputs": [],
   "source": [
    "colunas = data.columns[1:44]\n",
    "colunas.append(data.columns[55:56])\n",
    "data_tratado = data.dropna(subset=[\"desfecho\"])\n",
    "X_train, X_test, y_train, y_test = train_test_split(data_tratado.drop(columns=data.columns.difference(colunas)), data_tratado[\"desfecho\"], test_size=0.33, random_state=42)"
   ]
  },
  {
   "cell_type": "markdown",
   "id": "6d942250",
   "metadata": {},
   "source": [
    "###### Criação e avaliação dos modelos preditivos:"
   ]
  },
  {
   "cell_type": "code",
   "execution_count": 45,
   "id": "200562a4",
   "metadata": {},
   "outputs": [],
   "source": [
    "logReg = LogisticRegression()\n",
    "RandForClass = RandomForestClassifier()\n",
    "NeuClass = MLPClassifier()"
   ]
  },
  {
   "cell_type": "code",
   "execution_count": 46,
   "id": "3ca62ae6",
   "metadata": {},
   "outputs": [
    {
     "name": "stderr",
     "output_type": "stream",
     "text": [
      "C:\\Users\\hehehe\\anaconda3\\lib\\site-packages\\sklearn\\neural_network\\_multilayer_perceptron.py:614: ConvergenceWarning: Stochastic Optimizer: Maximum iterations (200) reached and the optimization hasn't converged yet.\n",
      "  warnings.warn(\n"
     ]
    },
    {
     "data": {
      "text/plain": [
       "MLPClassifier()"
      ]
     },
     "execution_count": 46,
     "metadata": {},
     "output_type": "execute_result"
    }
   ],
   "source": [
    "logReg.fit(X_train, y_train)\n",
    "RandForClass.fit(X_train, y_train)\n",
    "NeuClass.fit(X_train, y_train)"
   ]
  },
  {
   "cell_type": "code",
   "execution_count": 162,
   "id": "f08f53d3",
   "metadata": {},
   "outputs": [],
   "source": [
    "predLog = logReg.predict(X_test)\n",
    "predRand = RandForClass.predict(X_test)\n",
    "predNeu = NeuClass.predict(X_test)"
   ]
  },
  {
   "cell_type": "markdown",
   "id": "798c620e",
   "metadata": {},
   "source": [
    "##### Logistic Regression"
   ]
  },
  {
   "cell_type": "code",
   "execution_count": 163,
   "id": "55ec045a",
   "metadata": {},
   "outputs": [
    {
     "data": {
      "text/plain": [
       "array([[105,   2],\n",
       "       [  3,  73]], dtype=int64)"
      ]
     },
     "execution_count": 163,
     "metadata": {},
     "output_type": "execute_result"
    }
   ],
   "source": [
    "confusion_matrix(y_test, predLog)"
   ]
  },
  {
   "cell_type": "code",
   "execution_count": 164,
   "id": "7685f029",
   "metadata": {},
   "outputs": [
    {
     "name": "stdout",
     "output_type": "stream",
     "text": [
      "              precision    recall  f1-score   support\n",
      "\n",
      "        alta       0.97      0.98      0.98       107\n",
      "       obito       0.97      0.96      0.97        76\n",
      "\n",
      "    accuracy                           0.97       183\n",
      "   macro avg       0.97      0.97      0.97       183\n",
      "weighted avg       0.97      0.97      0.97       183\n",
      "\n"
     ]
    }
   ],
   "source": [
    "print(classification_report(y_test, predLog))"
   ]
  },
  {
   "cell_type": "code",
   "execution_count": null,
   "id": "6bbe973f",
   "metadata": {},
   "outputs": [],
   "source": []
  },
  {
   "cell_type": "markdown",
   "id": "89b4e947",
   "metadata": {},
   "source": [
    "##### Random Forest"
   ]
  },
  {
   "cell_type": "code",
   "execution_count": 165,
   "id": "f13152a8",
   "metadata": {},
   "outputs": [
    {
     "data": {
      "text/plain": [
       "array([[105,   2],\n",
       "       [  5,  71]], dtype=int64)"
      ]
     },
     "execution_count": 165,
     "metadata": {},
     "output_type": "execute_result"
    }
   ],
   "source": [
    "confusion_matrix(y_test, predRand)"
   ]
  },
  {
   "cell_type": "code",
   "execution_count": 166,
   "id": "b2cf90ea",
   "metadata": {},
   "outputs": [
    {
     "name": "stdout",
     "output_type": "stream",
     "text": [
      "              precision    recall  f1-score   support\n",
      "\n",
      "        alta       0.95      0.98      0.97       107\n",
      "       obito       0.97      0.93      0.95        76\n",
      "\n",
      "    accuracy                           0.96       183\n",
      "   macro avg       0.96      0.96      0.96       183\n",
      "weighted avg       0.96      0.96      0.96       183\n",
      "\n"
     ]
    }
   ],
   "source": [
    "print(classification_report(y_test, predRand))"
   ]
  },
  {
   "cell_type": "code",
   "execution_count": null,
   "id": "661e4ba3",
   "metadata": {},
   "outputs": [],
   "source": []
  },
  {
   "cell_type": "markdown",
   "id": "f1774122",
   "metadata": {},
   "source": [
    "##### Rede Neural"
   ]
  },
  {
   "cell_type": "code",
   "execution_count": 167,
   "id": "bd3ddf04",
   "metadata": {
    "scrolled": true
   },
   "outputs": [
    {
     "data": {
      "text/plain": [
       "array([[105,   2],\n",
       "       [  6,  70]], dtype=int64)"
      ]
     },
     "execution_count": 167,
     "metadata": {},
     "output_type": "execute_result"
    }
   ],
   "source": [
    "confusion_matrix(y_test, predNeu)"
   ]
  },
  {
   "cell_type": "code",
   "execution_count": 168,
   "id": "d29abcca",
   "metadata": {},
   "outputs": [
    {
     "name": "stdout",
     "output_type": "stream",
     "text": [
      "              precision    recall  f1-score   support\n",
      "\n",
      "        alta       0.95      0.98      0.96       107\n",
      "       obito       0.97      0.92      0.95        76\n",
      "\n",
      "    accuracy                           0.96       183\n",
      "   macro avg       0.96      0.95      0.95       183\n",
      "weighted avg       0.96      0.96      0.96       183\n",
      "\n"
     ]
    }
   ],
   "source": [
    "print(classification_report(y_test, predNeu))"
   ]
  },
  {
   "cell_type": "markdown",
   "id": "cd65ca02",
   "metadata": {},
   "source": [
    "Os três modelos treinados apresentaram bons e similares resultados o que provavelmente indica que são adequandos à natureza do dataset. No entanto, nos treinamento seguintes, decidiu-se reduzir o espaço de variáveis utilizadas para compreender a relevância do conjunto de variáveis em relação ao desempenho da classificação."
   ]
  },
  {
   "cell_type": "markdown",
   "id": "ec3eea3f",
   "metadata": {},
   "source": [
    "#### Nesse split dos dados foram selecionadas as variáveis das colunas 1 a 17 correspondente aos sintômas."
   ]
  },
  {
   "cell_type": "code",
   "execution_count": 109,
   "id": "82ef4f64",
   "metadata": {},
   "outputs": [],
   "source": [
    "colunas = data.columns[1:18]\n",
    "data_tratado = data.dropna(subset=[\"desfecho\"])\n",
    "X_train, X_test, y_train, y_test = train_test_split(data_tratado.drop(columns=data.columns.difference(colunas)), data_tratado[\"desfecho\"], test_size=0.33, random_state=42)"
   ]
  },
  {
   "cell_type": "markdown",
   "id": "61fb797c",
   "metadata": {},
   "source": [
    "###### Criação e avaliação dos modelos preditivos:"
   ]
  },
  {
   "cell_type": "code",
   "execution_count": 47,
   "id": "efc83e2b",
   "metadata": {},
   "outputs": [
    {
     "name": "stderr",
     "output_type": "stream",
     "text": [
      "C:\\Users\\hehehe\\anaconda3\\lib\\site-packages\\sklearn\\neural_network\\_multilayer_perceptron.py:614: ConvergenceWarning: Stochastic Optimizer: Maximum iterations (200) reached and the optimization hasn't converged yet.\n",
      "  warnings.warn(\n"
     ]
    },
    {
     "data": {
      "text/plain": [
       "MLPClassifier()"
      ]
     },
     "execution_count": 47,
     "metadata": {},
     "output_type": "execute_result"
    }
   ],
   "source": [
    "logReg.fit(X_train, y_train)\n",
    "RandForClass.fit(X_train, y_train)\n",
    "NeuClass.fit(X_train, y_train)"
   ]
  },
  {
   "cell_type": "code",
   "execution_count": 111,
   "id": "103efbbc",
   "metadata": {},
   "outputs": [],
   "source": [
    "predLog = logReg.predict(X_test)\n",
    "predRand = RandForClass.predict(X_test)\n",
    "predNeu = NeuClass.predict(X_test)"
   ]
  },
  {
   "cell_type": "markdown",
   "id": "1233fb7b",
   "metadata": {},
   "source": [
    "##### Logistic Regression"
   ]
  },
  {
   "cell_type": "code",
   "execution_count": 112,
   "id": "1288c483",
   "metadata": {},
   "outputs": [
    {
     "name": "stdout",
     "output_type": "stream",
     "text": [
      "[[92 15]\n",
      " [51 25]]\n"
     ]
    }
   ],
   "source": [
    "print(confusion_matrix(y_test, predLog))"
   ]
  },
  {
   "cell_type": "code",
   "execution_count": 113,
   "id": "30f5850c",
   "metadata": {},
   "outputs": [
    {
     "name": "stdout",
     "output_type": "stream",
     "text": [
      "              precision    recall  f1-score   support\n",
      "\n",
      "        alta       0.64      0.86      0.74       107\n",
      "       obito       0.62      0.33      0.43        76\n",
      "\n",
      "    accuracy                           0.64       183\n",
      "   macro avg       0.63      0.59      0.58       183\n",
      "weighted avg       0.64      0.64      0.61       183\n",
      "\n"
     ]
    }
   ],
   "source": [
    "print(classification_report(y_test, predLog))"
   ]
  },
  {
   "cell_type": "markdown",
   "id": "6ba44a22",
   "metadata": {},
   "source": [
    "##### Random Forest"
   ]
  },
  {
   "cell_type": "code",
   "execution_count": 114,
   "id": "d4eb6b10",
   "metadata": {},
   "outputs": [
    {
     "name": "stdout",
     "output_type": "stream",
     "text": [
      "[[86 21]\n",
      " [54 22]]\n"
     ]
    }
   ],
   "source": [
    "print(confusion_matrix(y_test, predRand))"
   ]
  },
  {
   "cell_type": "code",
   "execution_count": 115,
   "id": "22279969",
   "metadata": {},
   "outputs": [
    {
     "name": "stdout",
     "output_type": "stream",
     "text": [
      "              precision    recall  f1-score   support\n",
      "\n",
      "        alta       0.61      0.80      0.70       107\n",
      "       obito       0.51      0.29      0.37        76\n",
      "\n",
      "    accuracy                           0.59       183\n",
      "   macro avg       0.56      0.55      0.53       183\n",
      "weighted avg       0.57      0.59      0.56       183\n",
      "\n"
     ]
    }
   ],
   "source": [
    "print(classification_report(y_test, predRand))"
   ]
  },
  {
   "cell_type": "markdown",
   "id": "52c3a01a",
   "metadata": {},
   "source": [
    "##### Rede Neural"
   ]
  },
  {
   "cell_type": "code",
   "execution_count": 116,
   "id": "2286cb66",
   "metadata": {},
   "outputs": [
    {
     "name": "stdout",
     "output_type": "stream",
     "text": [
      "[[93 14]\n",
      " [54 22]]\n"
     ]
    }
   ],
   "source": [
    "print(confusion_matrix(y_test, predNeu))"
   ]
  },
  {
   "cell_type": "code",
   "execution_count": 117,
   "id": "49762a79",
   "metadata": {},
   "outputs": [
    {
     "name": "stdout",
     "output_type": "stream",
     "text": [
      "              precision    recall  f1-score   support\n",
      "\n",
      "        alta       0.63      0.87      0.73       107\n",
      "       obito       0.61      0.29      0.39        76\n",
      "\n",
      "    accuracy                           0.63       183\n",
      "   macro avg       0.62      0.58      0.56       183\n",
      "weighted avg       0.62      0.63      0.59       183\n",
      "\n"
     ]
    }
   ],
   "source": [
    "print(classification_report(y_test, predNeu))"
   ]
  },
  {
   "cell_type": "markdown",
   "id": "c7d19046",
   "metadata": {},
   "source": [
    "Os três modelos treinados apresentaram novamente resultados similares, porém desta vez seu desempenho foi pior, o que pode indicar overfitting dos modelos quando utilizadas as colunas da 1 a 43. Desta forma decidiu-se adicionar progressivamente novos conjuntos de variáveis no treinamento do algoritmo de melhor desempenho, que foi a Regrssão Logistica."
   ]
  },
  {
   "cell_type": "code",
   "execution_count": null,
   "id": "07d5b904",
   "metadata": {},
   "outputs": [],
   "source": []
  },
  {
   "cell_type": "code",
   "execution_count": null,
   "id": "ca884f64",
   "metadata": {},
   "outputs": [],
   "source": []
  },
  {
   "cell_type": "markdown",
   "id": "af9dff71",
   "metadata": {},
   "source": [
    "Assim como é mostrado na célula abaixo selecionamos dessa vez apenas variáveis relacionadas comorbidades para serem utilizadas no treino."
   ]
  },
  {
   "cell_type": "code",
   "execution_count": 40,
   "id": "924522f0",
   "metadata": {},
   "outputs": [],
   "source": [
    "colunas = data.columns[21:31]"
   ]
  },
  {
   "cell_type": "code",
   "execution_count": 41,
   "id": "8b9ae41e",
   "metadata": {},
   "outputs": [],
   "source": [
    "data_tratado = data.dropna(subset=[\"desfecho\"])\n",
    "X_train, X_test, y_train, y_test = train_test_split(data_tratado.drop(columns=data.columns.difference(colunas)), data_tratado[\"desfecho\"], test_size=0.33, random_state=42)"
   ]
  },
  {
   "cell_type": "code",
   "execution_count": 48,
   "id": "c379a1e8",
   "metadata": {},
   "outputs": [],
   "source": [
    "logReg.fit(X_train, y_train)\n",
    "predLog = logReg.predict(X_test)"
   ]
  },
  {
   "cell_type": "code",
   "execution_count": 49,
   "id": "1ee93593",
   "metadata": {},
   "outputs": [
    {
     "name": "stdout",
     "output_type": "stream",
     "text": [
      "[[98  5]\n",
      " [76  4]]\n",
      "              precision    recall  f1-score   support\n",
      "\n",
      "        alta       0.56      0.95      0.71       103\n",
      "       obito       0.44      0.05      0.09        80\n",
      "\n",
      "    accuracy                           0.56       183\n",
      "   macro avg       0.50      0.50      0.40       183\n",
      "weighted avg       0.51      0.56      0.44       183\n",
      "\n"
     ]
    }
   ],
   "source": [
    "print(confusion_matrix(y_test, predLog))\n",
    "print(classification_report(y_test, predLog))"
   ]
  },
  {
   "cell_type": "markdown",
   "id": "6e8b777b",
   "metadata": {},
   "source": [
    "Novamente pudemos notar que o modelo não desempenha tão bem quando o primeiro."
   ]
  },
  {
   "cell_type": "code",
   "execution_count": null,
   "id": "7fe55ea5",
   "metadata": {},
   "outputs": [],
   "source": []
  },
  {
   "cell_type": "markdown",
   "id": "33b3a27f",
   "metadata": {},
   "source": [
    "Tentamos então fazer a união entre os dois conjuntos de variáveis testados anteriormente (Sintômas e Comorbidades)"
   ]
  },
  {
   "cell_type": "code",
   "execution_count": 108,
   "id": "ada0e970",
   "metadata": {},
   "outputs": [
    {
     "data": {
      "text/plain": [
       "Index(['coriza', 'tosse_seca_ou_produtiva', 'calafrios', 'febre', 'dispneia',\n",
       "       'fadiga', 'anorexia', 'mialgia', 'astenia', 'dor_de_garganta',\n",
       "       'congestao_nasal', 'cefaleia', 'diarreia', 'nausea', 'vomitos',\n",
       "       'anosmia', 'ageusia'],\n",
       "      dtype='object')"
      ]
     },
     "execution_count": 108,
     "metadata": {},
     "output_type": "execute_result"
    }
   ],
   "source": [
    "data.columns[1:18]"
   ]
  },
  {
   "cell_type": "code",
   "execution_count": 105,
   "id": "c6824503",
   "metadata": {},
   "outputs": [
    {
     "data": {
      "text/plain": [
       "Index(['diabetes', 'obesidade', 'hipertensao_arterial', 'doenca_cardiaca',\n",
       "       'doenca_pulmonar', 'doenca_reumatologica', 'doenca_autoimune',\n",
       "       'doenca_renal_cronica', 'doenca_hepatica_cronica',\n",
       "       'doenca_neurologica'],\n",
       "      dtype='object')"
      ]
     },
     "execution_count": 105,
     "metadata": {},
     "output_type": "execute_result"
    }
   ],
   "source": [
    "data.columns[21:31]"
   ]
  },
  {
   "cell_type": "code",
   "execution_count": 126,
   "id": "31dc4c21",
   "metadata": {},
   "outputs": [
    {
     "data": {
      "text/plain": [
       "Index(['coriza', 'tosse_seca_ou_produtiva', 'calafrios', 'febre', 'dispneia',\n",
       "       'fadiga', 'anorexia', 'mialgia', 'astenia', 'dor_de_garganta',\n",
       "       'congestao_nasal', 'cefaleia', 'diarreia', 'nausea', 'vomitos',\n",
       "       'anosmia', 'ageusia', 'diabetes', 'obesidade', 'hipertensao_arterial',\n",
       "       'doenca_cardiaca', 'doenca_pulmonar', 'doenca_reumatologica',\n",
       "       'doenca_autoimune', 'doenca_renal_cronica', 'doenca_hepatica_cronica',\n",
       "       'doenca_neurologica'],\n",
       "      dtype='object')"
      ]
     },
     "execution_count": 126,
     "metadata": {},
     "output_type": "execute_result"
    }
   ],
   "source": [
    "colunas = data.columns[1:18]\n",
    "colunas.append(data.columns[21:31])"
   ]
  },
  {
   "cell_type": "code",
   "execution_count": null,
   "id": "58964248",
   "metadata": {},
   "outputs": [],
   "source": []
  },
  {
   "cell_type": "code",
   "execution_count": 127,
   "id": "adc4e162",
   "metadata": {},
   "outputs": [],
   "source": [
    "data_tratado = data.dropna(subset=[\"desfecho\"])\n",
    "X_train, X_test, y_train, y_test = train_test_split(data_tratado.drop(columns=data.columns.difference(colunas)), data_tratado[\"desfecho\"], test_size=0.33, random_state=42)"
   ]
  },
  {
   "cell_type": "code",
   "execution_count": 128,
   "id": "479af1ac",
   "metadata": {},
   "outputs": [],
   "source": [
    "logReg.fit(X_train, y_train)\n",
    "predLog = logReg.predict(X_test)"
   ]
  },
  {
   "cell_type": "code",
   "execution_count": 129,
   "id": "67e32194",
   "metadata": {},
   "outputs": [
    {
     "name": "stdout",
     "output_type": "stream",
     "text": [
      "[[92 15]\n",
      " [51 25]]\n",
      "              precision    recall  f1-score   support\n",
      "\n",
      "        alta       0.64      0.86      0.74       107\n",
      "       obito       0.62      0.33      0.43        76\n",
      "\n",
      "    accuracy                           0.64       183\n",
      "   macro avg       0.63      0.59      0.58       183\n",
      "weighted avg       0.64      0.64      0.61       183\n",
      "\n"
     ]
    }
   ],
   "source": [
    "print(confusion_matrix(y_test, predLog))\n",
    "print(classification_report(y_test, predLog))"
   ]
  },
  {
   "cell_type": "markdown",
   "id": "6aac01ce",
   "metadata": {},
   "source": [
    "O modelo novamente não desempenhou como o primeiro modelo, o leva a crer  que a(s) variável(eis) responsável(eis) pela alta acurácia do primeiro modelo se encontra entre as colunas 31 e 43, o que testamos a seguir."
   ]
  },
  {
   "cell_type": "code",
   "execution_count": 144,
   "id": "1e6c6a50",
   "metadata": {},
   "outputs": [],
   "source": [
    "colunas = data.columns[31:44]\n",
    "data_tratado = data.dropna(subset=[\"desfecho\"])\n",
    "X_train, X_test, y_train, y_test = train_test_split(data_tratado.drop(columns=data.columns.difference(colunas)), data_tratado[\"desfecho\"], test_size=0.33, random_state=42)"
   ]
  },
  {
   "cell_type": "code",
   "execution_count": 145,
   "id": "a12d9c2f",
   "metadata": {},
   "outputs": [],
   "source": [
    "logReg.fit(X_train, y_train)\n",
    "predLog = logReg.predict(X_test)"
   ]
  },
  {
   "cell_type": "code",
   "execution_count": 146,
   "id": "5ff9f433",
   "metadata": {},
   "outputs": [
    {
     "name": "stdout",
     "output_type": "stream",
     "text": [
      "[[105   2]\n",
      " [  3  73]]\n",
      "              precision    recall  f1-score   support\n",
      "\n",
      "        alta       0.97      0.98      0.98       107\n",
      "       obito       0.97      0.96      0.97        76\n",
      "\n",
      "    accuracy                           0.97       183\n",
      "   macro avg       0.97      0.97      0.97       183\n",
      "weighted avg       0.97      0.97      0.97       183\n",
      "\n"
     ]
    }
   ],
   "source": [
    "print(confusion_matrix(y_test, predLog))\n",
    "print(classification_report(y_test, predLog))"
   ]
  },
  {
   "cell_type": "markdown",
   "id": "a09fc01b",
   "metadata": {},
   "source": [
    "Novamente obtivemos um resultado tão bom quanto o do primeiro modelo, entretanto utilizamos apenas um terço das variáveis."
   ]
  },
  {
   "cell_type": "markdown",
   "id": "191ea2ee",
   "metadata": {},
   "source": [
    "Por fim, ao reanalizar o gráfico de pareto relacionado aos óbitos e à matriz de correlação foi possível notar que talvez as colunas responsáveis fossem vmi e uti, o que foi testado e comprovado a seguir."
   ]
  },
  {
   "cell_type": "code",
   "execution_count": 151,
   "id": "b0c0fb6c",
   "metadata": {},
   "outputs": [
    {
     "data": {
      "text/plain": [
       "Index(['vmi', 'uti'], dtype='object')"
      ]
     },
     "execution_count": 151,
     "metadata": {},
     "output_type": "execute_result"
    }
   ],
   "source": [
    "data.columns[32:34]"
   ]
  },
  {
   "cell_type": "code",
   "execution_count": 148,
   "id": "5882a42f",
   "metadata": {},
   "outputs": [],
   "source": [
    "colunas = data.columns[32:34]\n",
    "data_tratado = data.dropna(subset=[\"desfecho\"])\n",
    "X_train, X_test, y_train, y_test = train_test_split(data_tratado.drop(columns=data.columns.difference(colunas)), data_tratado[\"desfecho\"], test_size=0.33, random_state=42)"
   ]
  },
  {
   "cell_type": "code",
   "execution_count": 149,
   "id": "b56a3f7e",
   "metadata": {},
   "outputs": [],
   "source": [
    "logReg.fit(X_train, y_train)\n",
    "predLog = logReg.predict(X_test)"
   ]
  },
  {
   "cell_type": "code",
   "execution_count": 150,
   "id": "ad76ade0",
   "metadata": {},
   "outputs": [
    {
     "name": "stdout",
     "output_type": "stream",
     "text": [
      "[[105   2]\n",
      " [  3  73]]\n",
      "              precision    recall  f1-score   support\n",
      "\n",
      "        alta       0.97      0.98      0.98       107\n",
      "       obito       0.97      0.96      0.97        76\n",
      "\n",
      "    accuracy                           0.97       183\n",
      "   macro avg       0.97      0.97      0.97       183\n",
      "weighted avg       0.97      0.97      0.97       183\n",
      "\n"
     ]
    }
   ],
   "source": [
    "print(confusion_matrix(y_test, predLog))\n",
    "print(classification_report(y_test, predLog))"
   ]
  },
  {
   "cell_type": "markdown",
   "id": "2a1b3071",
   "metadata": {},
   "source": [
    "Percebeu-se que as variáveis vmi e uti são relevantes na determinação de casos de óbito. Além disso, a utilização de outras variáveis (sintomas, comorbidades, etc.)  também podem trazer indícios de casos de óbito, no entanto estão menos correlacionadas, o que torna o modelo preditivo menos acurado.\n",
    "<br>\n",
    "Como perspectivas é desejável um estudo mais aprofundado sobre as variáveis que influenciam em casos de óbito da covid-19. Além disso, a busca por outros datasets se mostra promissor para a análise de dados no domínio da pandemia da covid-19"
   ]
  },
  {
   "cell_type": "code",
   "execution_count": null,
   "id": "69b55977",
   "metadata": {},
   "outputs": [],
   "source": []
  }
 ],
 "metadata": {
  "kernelspec": {
   "display_name": "Python 3 (ipykernel)",
   "language": "python",
   "name": "python3"
  },
  "language_info": {
   "codemirror_mode": {
    "name": "ipython",
    "version": 3
   },
   "file_extension": ".py",
   "mimetype": "text/x-python",
   "name": "python",
   "nbconvert_exporter": "python",
   "pygments_lexer": "ipython3",
   "version": "3.9.7"
  }
 },
 "nbformat": 4,
 "nbformat_minor": 5
}
